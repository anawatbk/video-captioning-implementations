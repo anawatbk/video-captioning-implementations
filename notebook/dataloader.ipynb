{
 "cells": [
  {
   "cell_type": "code",
   "execution_count": 298,
   "metadata": {},
   "outputs": [],
   "source": [
    "import os\n",
    "from pathlib import Path\n",
    "\n",
    "import pandas as pd\n",
    "import numpy as np\n",
    "import cv2\n",
    "import matplotlib.pyplot as plt\n",
    "\n",
    "from tqdm import tqdm\n",
    "import torch\n",
    "from torch.utils.data import Dataset, DataLoader,random_split\n",
    "import torch.nn as nn\n",
    "import torch.optim as optim\n",
    "import torch.nn.functional as F\n",
    "import torchvision.models as models"
   ]
  },
  {
   "cell_type": "code",
   "execution_count": 3,
   "metadata": {},
   "outputs": [],
   "source": [
    "# path configuration\n",
    "LABELS_PATH = '../data/train_val_annotation/train_val_videodatainfo.json'\n",
    "DATA_PATH = '../data/train_val_features/'"
   ]
  },
  {
   "cell_type": "code",
   "execution_count": 30,
   "metadata": {},
   "outputs": [],
   "source": [
    "import json\n",
    "from pickle import dump, load"
   ]
  },
  {
   "cell_type": "code",
   "execution_count": 5,
   "metadata": {},
   "outputs": [],
   "source": [
    "# JSON file\n",
    "f = open (LABELS_PATH, \"r\")\n",
    "  # Reading from file\n",
    "data = json.loads(f.read())"
   ]
  },
  {
   "cell_type": "code",
   "execution_count": 96,
   "metadata": {},
   "outputs": [
    {
     "data": {
      "text/plain": [
       "{'category': 9,\n",
       " 'url': 'https://www.youtube.com/watch?v=9lZi22qLlEo',\n",
       " 'video_id': 'video0',\n",
       " 'start time': 137.72,\n",
       " 'end time': 149.44,\n",
       " 'split': 'train',\n",
       " 'id': 0}"
      ]
     },
     "execution_count": 96,
     "metadata": {},
     "output_type": "execute_result"
    }
   ],
   "source": [
    "data['videos'][0]"
   ]
  },
  {
   "cell_type": "code",
   "execution_count": 7,
   "metadata": {},
   "outputs": [],
   "source": [
    "## randomly select sentence\n",
    "#label_df = pd.DataFrame(data['sentences'])\n",
    "#label_final_df = label_df.groupby('video_id')['sen_id'].unique().apply(lambda x: x[np.random.randint(0,20)]).to_frame().reset_index()\n",
    "#label_final_df['video_id'].nunique()\n",
    "#label_final_df = label_final_df.join(label_df[['sen_id', 'caption']].set_index('sen_id'), on='sen_id')\n",
    "#label_final_df.to_csv('../data/label_final.csv', index=False)"
   ]
  },
  {
   "cell_type": "markdown",
   "metadata": {},
   "source": [
    "## DataSet"
   ]
  },
  {
   "cell_type": "code",
   "execution_count": 8,
   "metadata": {},
   "outputs": [],
   "source": [
    "label_final_df = pd.read_csv('../data/label_final.csv')"
   ]
  },
  {
   "cell_type": "markdown",
   "metadata": {},
   "source": [
    "### 1. Create embedding matrix from google news word2vec"
   ]
  },
  {
   "cell_type": "code",
   "execution_count": 9,
   "metadata": {},
   "outputs": [],
   "source": [
    "import spacy\n",
    "from collections import Counter\n",
    "nlp = spacy.load('en_core_web_sm', disable = ['ner', 'parser'])"
   ]
  },
  {
   "cell_type": "code",
   "execution_count": 35,
   "metadata": {},
   "outputs": [
    {
     "name": "stdout",
     "output_type": "stream",
     "text": [
      "['fasttext-wiki-news-subwords-300', 'conceptnet-numberbatch-17-06-300', 'word2vec-ruscorpora-300', 'word2vec-google-news-300', 'glove-wiki-gigaword-50', 'glove-wiki-gigaword-100', 'glove-wiki-gigaword-200', 'glove-wiki-gigaword-300', 'glove-twitter-25', 'glove-twitter-50', 'glove-twitter-100', 'glove-twitter-200', '__testing_word2vec-matrix-synopsis']\n"
     ]
    }
   ],
   "source": [
    "# embedding\n",
    "import gensim.downloader\n",
    "\n",
    "print(list(gensim.downloader.info()['models'].keys()))\n",
    "glove_emb = gensim.downloader.load('word2vec-google-news-300')"
   ]
  },
  {
   "cell_type": "code",
   "execution_count": 11,
   "metadata": {},
   "outputs": [],
   "source": [
    "all_sent = label_final_df['caption'].tolist()#.astype('unicode')"
   ]
  },
  {
   "cell_type": "code",
   "execution_count": 26,
   "metadata": {},
   "outputs": [],
   "source": [
    "wc = Counter()\n",
    "try:\n",
    "    for doc in nlp.pipe(all_sent):\n",
    "        for word in doc:\n",
    "            #print(word)\n",
    "            wc[str(word)] += 1\n",
    "except Exception as e:\n",
    "    print(e)\n",
    "    print(doc,'\\nword:', word)"
   ]
  },
  {
   "cell_type": "code",
   "execution_count": 51,
   "metadata": {},
   "outputs": [],
   "source": [
    "# create embedding matrix\n",
    "# initialization\n",
    "EMBEDDING_SIZE = 300\n",
    "embedding = np.zeros((len(wc)+4, 300)) # +4 for start, end, unk, padding\n",
    "word2idx = {}\n",
    "idx2word = {}\n",
    "\n",
    "word2idx['<PAD>'] = 0\n",
    "idx2word[0] = '<PAD>'\n",
    "embedding[0] = np.random.rand(300)*2 - 1\n",
    "\n",
    "word2idx['<START>'] = 1\n",
    "idx2word[1] = '<START>'\n",
    "embedding[1] = np.random.rand(300)*2 - 1\n",
    "\n",
    "word2idx['<END>'] = 2\n",
    "idx2word[2] = '<END>'\n",
    "embedding[2] = np.random.rand(300)*2 - 1\n",
    "\n",
    "word2idx['<UNK>'] = 3\n",
    "idx2word[3] = '<UNK>'\n",
    "embedding[3] = np.random.rand(300)*2 - 1\n",
    "\n",
    "count = 0\n",
    "for word, _ in wc.most_common():\n",
    "    wid = len(word2idx)\n",
    "    word2idx[word] = wid\n",
    "    idx2word[wid] = word\n",
    "    if word in glove_emb:\n",
    "        embedding[wid] = glove_emb.get_vector(word)\n",
    "    else:\n",
    "        embedding[wid] = np.random.rand(300)*2 - 1 # random initialisation (-1, 1)\n",
    "        count += 1"
   ]
  },
  {
   "cell_type": "code",
   "execution_count": 53,
   "metadata": {},
   "outputs": [
    {
     "name": "stdout",
     "output_type": "stream",
     "text": [
      "401 words are not in google news werd2vec\n"
     ]
    }
   ],
   "source": [
    "print(f'{count} words are not in google news werd2vec')"
   ]
  },
  {
   "cell_type": "code",
   "execution_count": 835,
   "metadata": {},
   "outputs": [],
   "source": [
    "np.save('../model/embedding.npy', embedding)"
   ]
  },
  {
   "cell_type": "code",
   "execution_count": 988,
   "metadata": {},
   "outputs": [],
   "source": [
    "import pickle\n",
    "with open(\"../model/word2idx.pkl\",\"wb\") as f:\n",
    "    pickle.dump(word2idx, f)\n"
   ]
  },
  {
   "cell_type": "code",
   "execution_count": 989,
   "metadata": {},
   "outputs": [],
   "source": [
    "with open(\"../model/idx2word.pkl\",\"wb\") as f:\n",
    "    pickle.dump(idx2word, f)"
   ]
  },
  {
   "cell_type": "markdown",
   "metadata": {},
   "source": [
    "### 2.Dataset Class for pytorch"
   ]
  },
  {
   "cell_type": "code",
   "execution_count": 279,
   "metadata": {},
   "outputs": [],
   "source": [
    "class MSRVTT(Dataset):\n",
    "    def __init__(self, df, word2idx, DATA_PATH):\n",
    "        super(MSRVTT, self).__init__()\n",
    "        self.df = df\n",
    "        self.path = DATA_PATH\n",
    "        self.word2idx = word2idx\n",
    "    \n",
    "    def __len__(self):\n",
    "        return len(self.df)\n",
    "    \n",
    "    def __getitem__(self, idx):\n",
    "        row = self.df.iloc[idx]\n",
    "        vid = row['video_id']\n",
    "        filename = self.path + f'{vid}-feature.pt5'\n",
    "        x = torch.load(filename)\n",
    "        sentence_emb = [self.word2idx.get(word, self.word2idx['<UNK>']) for word in row['caption'].split(' ')]\n",
    "        y = torch.zeros(len(sentence_emb)+2)\n",
    "        y[0], y[-1] = self.word2idx['<START>'], self.word2idx['<END>']\n",
    "        y[1:-1] = torch.tensor(sentence_emb)\n",
    "        #true_sentence = row['caption']\n",
    "        return x, y.long()#, true_sentence"
   ]
  },
  {
   "cell_type": "code",
   "execution_count": 280,
   "metadata": {},
   "outputs": [],
   "source": [
    "ds = MSRVTT(label_final_df, word2idx, DATA_PATH)"
   ]
  },
  {
   "cell_type": "code",
   "execution_count": 282,
   "metadata": {},
   "outputs": [],
   "source": [
    "ds_iter = iter(ds)"
   ]
  },
  {
   "cell_type": "code",
   "execution_count": 285,
   "metadata": {},
   "outputs": [
    {
     "data": {
      "text/plain": [
       "30"
      ]
     },
     "execution_count": 285,
     "metadata": {},
     "output_type": "execute_result"
    }
   ],
   "source": [
    "x.size(0)"
   ]
  },
  {
   "cell_type": "code",
   "execution_count": 286,
   "metadata": {},
   "outputs": [],
   "source": [
    "frames_size = []\n",
    "sents_length = []\n",
    "for x, y in ds_iter:\n",
    "    frames_size.append(x.size(0))\n",
    "    sents_length.append(len(y))"
   ]
  },
  {
   "cell_type": "code",
   "execution_count": 291,
   "metadata": {},
   "outputs": [],
   "source": [
    "import matplotlib.pyplot as plt"
   ]
  },
  {
   "cell_type": "code",
   "execution_count": 293,
   "metadata": {},
   "outputs": [
    {
     "data": {
      "image/png": "[encoded data removed]",
      "text/plain": [
       "<Figure size 432x288 with 1 Axes>"
      ]
     },
     "metadata": {
      "needs_background": "light"
     },
     "output_type": "display_data"
    }
   ],
   "source": [
    "# frames length distribution\n",
    "plt.hist(frames_size)\n",
    "plt.show()"
   ]
  },
  {
   "cell_type": "code",
   "execution_count": 295,
   "metadata": {},
   "outputs": [
    {
     "data": {
      "image/png": "[encoded data removed]",
      "text/plain": [
       "<Figure size 432x288 with 1 Axes>"
      ]
     },
     "metadata": {
      "needs_background": "light"
     },
     "output_type": "display_data"
    }
   ],
   "source": [
    "# sentence length distribution\n",
    "plt.hist(sents_length)\n",
    "plt.show()"
   ]
  },
  {
   "cell_type": "markdown",
   "metadata": {},
   "source": [
    "### 3.Dataloaders"
   ]
  },
  {
   "cell_type": "code",
   "execution_count": 428,
   "metadata": {},
   "outputs": [],
   "source": [
    "def collate_fn(batch):\n",
    "    \"\"\"\n",
    "    padding  text or video\n",
    "    \"\"\"\n",
    "    x_batch = []\n",
    "    y_batch = []\n",
    "    for x, y in batch:\n",
    "        x_batch.append(x)\n",
    "        y_batch.append(y)\n",
    "    lengths = list(map(lambda x: x.size(0), x_batch))\n",
    "    x_batch = torch.nn.utils.rnn.pad_sequence(x_batch,  batch_first=True)\n",
    "    x_batch = torch.nn.utils.rnn.pack_padded_sequence(x_batch, lengths, batch_first=True, enforce_sorted=False)\n",
    "    y_batch = torch.nn.utils.rnn.pad_sequence(y_batch, batch_first=True)\n",
    "    return x_batch, y_batch#, lengths  # PackedSequence, padded tensor\n",
    "\n",
    "#torch.nn.utils.rnn.pack_padded_sequence(input, lengths, batch_first=False, enforce_sorted=True)"
   ]
  },
  {
   "cell_type": "code",
   "execution_count": 429,
   "metadata": {},
   "outputs": [
    {
     "name": "stdout",
     "output_type": "stream",
     "text": [
      "6519 491\n"
     ]
    }
   ],
   "source": [
    "# split train/test\n",
    "train_proportion = 0.93\n",
    "train_size = int(train_proportion * len(ds))\n",
    "validation_size = len(ds) - train_size\n",
    "print(train_size, validation_size)"
   ]
  },
  {
   "cell_type": "code",
   "execution_count": 733,
   "metadata": {},
   "outputs": [],
   "source": [
    "train_ds, validation_ds = random_split(ds, [train_size, validation_size])\n",
    "# dataloaders\n",
    "train_dl = DataLoader(train_ds, batch_size=8, shuffle=True, collate_fn=collate_fn)\n",
    "valid_dl = DataLoader(validation_ds, batch_size=2, shuffle=False, collate_fn=collate_fn)"
   ]
  },
  {
   "cell_type": "code",
   "execution_count": 734,
   "metadata": {},
   "outputs": [],
   "source": [
    "x, y = next(iter(train_dl))"
   ]
  },
  {
   "cell_type": "code",
   "execution_count": 449,
   "metadata": {},
   "outputs": [
    {
     "data": {
      "text/plain": [
       "tensor([[   1, 3353,  229,   63,    4, 3354, 1113,  148,  722,    4, 1025,    9,\n",
       "            4,  152,   77,  791,  657,    2],\n",
       "        [   1,    4,   19,  203,    4,  989,  109, 1551,    2,    0,    0,    0,\n",
       "            0,    0,    0,    0,    0,    0],\n",
       "        [   1,   14,   70,   80,   10,  252,    2,    0,    0,    0,    0,    0,\n",
       "            0,    0,    0,    0,    0,    0],\n",
       "        [   1, 2623,   13,  161,    4, 4370,    2,    0,    0,    0,    0,    0,\n",
       "            0,    0,    0,    0,    0,    0],\n",
       "        [   1,    4, 5483,    7,    6,   85,    2,    0,    0,    0,    0,    0,\n",
       "            0,    0,    0,    0,    0,    0],\n",
       "        [   1,   76, 2635,   96,    5,   21,  831,   11,  223,   10,  104, 2635,\n",
       "           96,    2,    0,    0,    0,    0],\n",
       "        [   1,   18,   10,  501,  130,  793,   87,    2,    0,    0,    0,    0,\n",
       "            0,    0,    0,    0,    0,    0],\n",
       "        [   1,    4,    8,    5,   17,   16,    6, 4546,  777, 4547,    9,    6,\n",
       "         4548,  129,    2,    0,    0,    0]])"
      ]
     },
     "execution_count": 449,
     "metadata": {},
     "output_type": "execute_result"
    }
   ],
   "source": [
    "y"
   ]
  },
  {
   "cell_type": "markdown",
   "metadata": {},
   "source": [
    "# Model"
   ]
  },
  {
   "cell_type": "markdown",
   "metadata": {},
   "source": [
    "### Sequence to Sequence Model (Encoder-Decoder)"
   ]
  },
  {
   "cell_type": "markdown",
   "metadata": {},
   "source": [
    "While image description handles a variable length output sequence of words, video description also has to handle a variable length input sequence of frames. Related approaches to video description have resolved variable length input by holistic video representations [29, 28, 11], pooling over frames [39], or sub-sampling on a fixed number of input frames [43]. In contrast, in this work we propose a sequence to sequence"
   ]
  },
  {
   "cell_type": "code",
   "execution_count": 990,
   "metadata": {},
   "outputs": [],
   "source": [
    "\n",
    "class Encoder(nn.Module):\n",
    "    '''\n",
    "    Take sequence of video's resnet50 features as input\n",
    "    \n",
    "    note: batch_first=True does not apply to hidden or cell states\n",
    "    '''\n",
    "    def __init__(self, input_dim, hidden_dim):\n",
    "        super(Encoder, self).__init__()\n",
    "        self.hidden_dim = hidden_dim\n",
    "        self.rnn = nn.LSTM(input_dim, hidden_dim, num_layers=1, batch_first=True)\n",
    "                \n",
    "    def forward(self, x):\n",
    "        '''\n",
    "        x: PackedSequence\n",
    "        '''\n",
    "        outputs, (hidden, cell_state) = self.rnn(x) \n",
    "        return hidden\n",
    "    \n",
    "class Decoder(nn.Module):\n",
    "    '''\n",
    "    Decode Hidden State from Encoder to sentence (sequence of texts)\n",
    "    \n",
    "    note: batch_first=True does not apply to hidden or cell states\n",
    "    '''\n",
    "    def __init__(self, weights, emb_dim, hidden_dim, out_dim):\n",
    "        super(Decoder, self).__init__()\n",
    "        self.hidden_dim = hidden_dim\n",
    "        self.emb_dim = emb_dim\n",
    "        self.out_dim = out_dim\n",
    "        \n",
    "        # layers\n",
    "        self.emb = nn.Embedding.from_pretrained(torch.tensor(weights), padding_idx=0, freeze=False)\n",
    "        self.rnn = nn.GRU(emb_dim + hidden_dim, hidden_dim, num_layers=1, batch_first=True)\n",
    "        self.fc_out = nn.Linear(emb_dim + hidden_dim * 2, out_dim)\n",
    "                \n",
    "    def forward(self, word_input, encoded_context, hidden):\n",
    "        '''\n",
    "        word_input: (batch_size)\n",
    "        encoded_context: (1, batch_size, hidden_dim)\n",
    "        hidden: (1, batch_size, hidden_dim)\n",
    "        '''\n",
    "        # 1 word at a time\n",
    "    \n",
    "        word_input = self.emb(word_input) # dim (batch, emb_dim) \n",
    "        emb_input = torch.cat([word_input, encoded_context.squeeze(0)], dim=1)\n",
    "        output, hidden = self.rnn(emb_input.unsqueeze(1).float(), hidden)\n",
    "        prediction = self.fc_out(torch.cat([word_input, encoded_context.squeeze(0), hidden.squeeze(0)], dim=1).float())\n",
    "        return prediction, hidden \n",
    "    "
   ]
  },
  {
   "cell_type": "code",
   "execution_count": 991,
   "metadata": {},
   "outputs": [],
   "source": [
    "class Seq2Seq(nn.Module):\n",
    "    def __init__(self, encoder, decoder, device):\n",
    "        super(Seq2Seq, self).__init__()\n",
    "        self.encoder = encoder\n",
    "        self.decoder = decoder\n",
    "        self.device = device\n",
    "    \n",
    "    def forward(self, x, y, teacher_forcing_ratio=0.8):\n",
    "        '''\n",
    "        x: PackedSequence\n",
    "        y: (batch_size, sentence_len(padded))\n",
    "        hidden: (1, batch_size, hidden_dim)\n",
    "        '''\n",
    "        batch_size = y.size(0)\n",
    "        sentence_len = y.size(1)\n",
    "        vocab_size = self.decoder.out_dim\n",
    "        \n",
    "        ##############\n",
    "        # Initialize #\n",
    "        ##############\n",
    "        # tensor for final outputs\n",
    "        outputs = torch.zeros(batch_size, sentence_len, vocab_size).to(self.device)\n",
    "        # last hidden state of the encoder is the context\n",
    "        encoded_context = self.encoder(x) # (1, batch_size, hidden_dim)\n",
    "        # first hidden state \n",
    "        hidden = encoded_context # (1, batch_size, hidden_dim)\n",
    "        # first input '<START>'\n",
    "        word_input = y[:, 0] # (batch_size)\n",
    "        for t in range(1, sentence_len):\n",
    "            #insert input token embedding, previous hidden state and the context state\n",
    "            #receive output tensor (predictions) and new hidden state\n",
    "            output, hidden = self.decoder(word_input, encoded_context, hidden)\n",
    "            \n",
    "            #place predictions in a tensor holding predictions for each token\n",
    "            outputs[:, t, :] = output\n",
    "            \n",
    "            #decide if we are going to use teacher forcing or not\n",
    "            teacher_force = np.random.rand() < teacher_forcing_ratio\n",
    "            \n",
    "            #get the highest predicted token from our predictions\n",
    "            top1 = output.argmax(1) # dim: (batch_size)\n",
    "            \n",
    "            #if teacher forcing, use actual next token as next input\n",
    "            #if not, use predicted token\n",
    "            word_input = y[:, t] if teacher_force else top1\n",
    "\n",
    "        return outputs\n",
    "    "
   ]
  },
  {
   "cell_type": "markdown",
   "metadata": {},
   "source": [
    "# Training "
   ]
  },
  {
   "cell_type": "markdown",
   "metadata": {},
   "source": [
    "Set up the model"
   ]
  },
  {
   "cell_type": "code",
   "execution_count": 992,
   "metadata": {},
   "outputs": [],
   "source": [
    "N_VOCAB = len(word2idx)\n",
    "EMB_DIM = 300\n",
    "INPUT_DIM = 2048 # resnet50 fc dim\n",
    "HIDDEN_DIM = 800\n",
    "\n",
    "device = torch.device('cuda' if torch.cuda.is_available() else 'cpu')\n",
    "encoder = Encoder(INPUT_DIM, HIDDEN_DIM)\n",
    "decoder = Decoder(embedding, EMB_DIM, HIDDEN_DIM, N_VOCAB)\n",
    "model = Seq2Seq(encoder, decoder, device)"
   ]
  },
  {
   "cell_type": "markdown",
   "metadata": {},
   "source": [
    "weight initialization with N(0, 0.01)"
   ]
  },
  {
   "cell_type": "code",
   "execution_count": 993,
   "metadata": {},
   "outputs": [
    {
     "name": "stdout",
     "output_type": "stream",
     "text": [
      "encoder.rnn.weight_ih_l0 torch.Size([3200, 2048])\n",
      "encoder.rnn.weight_hh_l0 torch.Size([3200, 800])\n",
      "encoder.rnn.bias_ih_l0 torch.Size([3200])\n",
      "encoder.rnn.bias_hh_l0 torch.Size([3200])\n",
      "decoder.rnn.weight_ih_l0 torch.Size([2400, 1100])\n",
      "decoder.rnn.weight_hh_l0 torch.Size([2400, 800])\n",
      "decoder.rnn.bias_ih_l0 torch.Size([2400])\n",
      "decoder.rnn.bias_hh_l0 torch.Size([2400])\n",
      "decoder.fc_out.weight torch.Size([6157, 1900])\n",
      "decoder.fc_out.bias torch.Size([6157])\n"
     ]
    }
   ],
   "source": [
    "for name, param in model.named_parameters():\n",
    "    if name != 'decoder.emb.weight':\n",
    "        print(name, param.shape)\n",
    "        nn.init.normal_(param.data, mean=0, std=0.1)"
   ]
  },
  {
   "cell_type": "code",
   "execution_count": 994,
   "metadata": {},
   "outputs": [],
   "source": [
    "optimizer = optim.Adam(model.parameters(), lr=0.001)\n",
    "loss_func = nn.CrossEntropyLoss(ignore_index=0)\n",
    "scheduler = optim.lr_scheduler.ReduceLROnPlateau(optimizer, 'min', patience=3, threshold=0.001, threshold_mode='rel', min_lr=0)"
   ]
  },
  {
   "cell_type": "code",
   "execution_count": 995,
   "metadata": {},
   "outputs": [],
   "source": [
    "def train_one_epoch(model, dataloader, optimizer, lossFun, backwards=True, print_loss=False):\n",
    "    \n",
    "    if backwards == True:\n",
    "        model.train()\n",
    "    else:\n",
    "        model.eval()\n",
    "    \n",
    "    total_loss = 0.0\n",
    "    \n",
    "    for i, (x, y) in enumerate(tqdm(dataloader)):\n",
    "        \n",
    "        out = model(x, y)\n",
    "        out = out.view(-1, 6157)\n",
    "        y = y.view(-1)\n",
    "        loss = lossFun(out, y)\n",
    "        \n",
    "        total_loss += loss.item()\n",
    "        if i % 50 == 0:\n",
    "            print(f'Batch loss: {loss.item()}')\n",
    "        if backwards == True:\n",
    "            optimizer.zero_grad()\n",
    "            loss.backward()\n",
    "            torch.nn.utils.clip_grad_norm_(model.parameters(), 1)\n",
    "            optimizer.step()\n",
    "    \n",
    "    avg_loss = total_loss / len(dataloader)\n",
    "    \n",
    "    if print_loss == True:\n",
    "        print(avg_loss)\n",
    "    \n",
    "    return avg_loss\n",
    "\n",
    "\n",
    "\n",
    "def evaluate(model, dataloader, lossFun):\n",
    "    \n",
    "    model.eval()\n",
    "    \n",
    "    total_loss = 0\n",
    "    \n",
    "    with torch.no_grad():\n",
    "    \n",
    "        for x, y in tqdm(dataloader):\n",
    "\n",
    "            out = model(x, y)\n",
    "            out = out.view(-1, 6157)\n",
    "            y = y.view(-1)\n",
    "            loss = lossFun(out, y)\n",
    "\n",
    "            total_loss += loss.item()\n",
    "        \n",
    "    return total_loss / len(dataloader)"
   ]
  },
  {
   "cell_type": "code",
   "execution_count": 996,
   "metadata": {},
   "outputs": [
    {
     "name": "stderr",
     "output_type": "stream",
     "text": [
      "  0%|          | 0/815 [00:00<?, ?it/s]"
     ]
    },
    {
     "name": "stdout",
     "output_type": "stream",
     "text": [
      "Epoch:  0\n",
      "Batch loss: 10.895195960998535\n"
     ]
    },
    {
     "name": "stderr",
     "output_type": "stream",
     "text": [
      "  6%|▌         | 50/815 [01:45<28:55,  2.27s/it]"
     ]
    },
    {
     "name": "stdout",
     "output_type": "stream",
     "text": [
      "Batch loss: 5.972578048706055\n"
     ]
    },
    {
     "name": "stderr",
     "output_type": "stream",
     "text": [
      " 12%|█▏        | 100/815 [03:33<23:55,  2.01s/it]"
     ]
    },
    {
     "name": "stdout",
     "output_type": "stream",
     "text": [
      "Batch loss: 6.184594631195068\n"
     ]
    },
    {
     "name": "stderr",
     "output_type": "stream",
     "text": [
      " 18%|█▊        | 150/815 [05:24<25:24,  2.29s/it]"
     ]
    },
    {
     "name": "stdout",
     "output_type": "stream",
     "text": [
      "Batch loss: 6.3312602043151855\n"
     ]
    },
    {
     "name": "stderr",
     "output_type": "stream",
     "text": [
      " 25%|██▍       | 200/815 [07:04<20:01,  1.95s/it]"
     ]
    },
    {
     "name": "stdout",
     "output_type": "stream",
     "text": [
      "Batch loss: 6.197211265563965\n"
     ]
    },
    {
     "name": "stderr",
     "output_type": "stream",
     "text": [
      " 31%|███       | 250/815 [08:50<20:08,  2.14s/it]"
     ]
    },
    {
     "name": "stdout",
     "output_type": "stream",
     "text": [
      "Batch loss: 6.206087112426758\n"
     ]
    },
    {
     "name": "stderr",
     "output_type": "stream",
     "text": [
      " 37%|███▋      | 300/815 [10:32<15:28,  1.80s/it]"
     ]
    },
    {
     "name": "stdout",
     "output_type": "stream",
     "text": [
      "Batch loss: 5.096564292907715\n"
     ]
    },
    {
     "name": "stderr",
     "output_type": "stream",
     "text": [
      " 43%|████▎     | 350/815 [12:13<15:21,  1.98s/it]"
     ]
    },
    {
     "name": "stdout",
     "output_type": "stream",
     "text": [
      "Batch loss: 4.51657772064209\n"
     ]
    },
    {
     "name": "stderr",
     "output_type": "stream",
     "text": [
      " 49%|████▉     | 400/815 [14:03<15:49,  2.29s/it]"
     ]
    },
    {
     "name": "stdout",
     "output_type": "stream",
     "text": [
      "Batch loss: 5.678490161895752\n"
     ]
    },
    {
     "name": "stderr",
     "output_type": "stream",
     "text": [
      " 55%|█████▌    | 450/815 [15:48<13:48,  2.27s/it]"
     ]
    },
    {
     "name": "stdout",
     "output_type": "stream",
     "text": [
      "Batch loss: 5.319180965423584\n"
     ]
    },
    {
     "name": "stderr",
     "output_type": "stream",
     "text": [
      " 61%|██████▏   | 500/815 [17:32<12:01,  2.29s/it]"
     ]
    },
    {
     "name": "stdout",
     "output_type": "stream",
     "text": [
      "Batch loss: 5.2479681968688965\n"
     ]
    },
    {
     "name": "stderr",
     "output_type": "stream",
     "text": [
      " 67%|██████▋   | 550/815 [19:18<09:15,  2.09s/it]"
     ]
    },
    {
     "name": "stdout",
     "output_type": "stream",
     "text": [
      "Batch loss: 4.951292991638184\n"
     ]
    },
    {
     "name": "stderr",
     "output_type": "stream",
     "text": [
      " 74%|███████▎  | 600/815 [21:04<07:08,  2.00s/it]"
     ]
    },
    {
     "name": "stdout",
     "output_type": "stream",
     "text": [
      "Batch loss: 5.521001815795898\n"
     ]
    },
    {
     "name": "stderr",
     "output_type": "stream",
     "text": [
      " 80%|███████▉  | 650/815 [22:48<05:46,  2.10s/it]"
     ]
    },
    {
     "name": "stdout",
     "output_type": "stream",
     "text": [
      "Batch loss: 6.48126745223999\n"
     ]
    },
    {
     "name": "stderr",
     "output_type": "stream",
     "text": [
      " 86%|████████▌ | 700/815 [24:35<03:52,  2.02s/it]"
     ]
    },
    {
     "name": "stdout",
     "output_type": "stream",
     "text": [
      "Batch loss: 5.433162212371826\n"
     ]
    },
    {
     "name": "stderr",
     "output_type": "stream",
     "text": [
      " 92%|█████████▏| 750/815 [26:23<02:19,  2.14s/it]"
     ]
    },
    {
     "name": "stdout",
     "output_type": "stream",
     "text": [
      "Batch loss: 4.879652500152588\n"
     ]
    },
    {
     "name": "stderr",
     "output_type": "stream",
     "text": [
      " 98%|█████████▊| 800/815 [28:08<00:30,  2.05s/it]"
     ]
    },
    {
     "name": "stdout",
     "output_type": "stream",
     "text": [
      "Batch loss: 5.2979021072387695\n"
     ]
    },
    {
     "name": "stderr",
     "output_type": "stream",
     "text": [
      "100%|██████████| 815/815 [28:39<00:00,  2.11s/it]\n",
      "  0%|          | 1/246 [00:00<00:35,  6.94it/s]"
     ]
    },
    {
     "name": "stdout",
     "output_type": "stream",
     "text": [
      "Train Loss:  5.86527185206033\n"
     ]
    },
    {
     "name": "stderr",
     "output_type": "stream",
     "text": [
      "100%|██████████| 246/246 [00:37<00:00,  6.62it/s]\n",
      "  0%|          | 0/815 [00:00<?, ?it/s]"
     ]
    },
    {
     "name": "stdout",
     "output_type": "stream",
     "text": [
      "Valid Loss:  5.361417527121257\n",
      "Epoch:  1\n",
      "Batch loss: 4.442993640899658\n"
     ]
    },
    {
     "name": "stderr",
     "output_type": "stream",
     "text": [
      "  6%|▌         | 50/815 [01:47<28:40,  2.25s/it]"
     ]
    },
    {
     "name": "stdout",
     "output_type": "stream",
     "text": [
      "Batch loss: 4.22155237197876\n"
     ]
    },
    {
     "name": "stderr",
     "output_type": "stream",
     "text": [
      " 12%|█▏        | 100/815 [03:38<24:10,  2.03s/it]"
     ]
    },
    {
     "name": "stdout",
     "output_type": "stream",
     "text": [
      "Batch loss: 4.298394680023193\n"
     ]
    },
    {
     "name": "stderr",
     "output_type": "stream",
     "text": [
      " 18%|█▊        | 150/815 [05:23<22:53,  2.07s/it]"
     ]
    },
    {
     "name": "stdout",
     "output_type": "stream",
     "text": [
      "Batch loss: 5.181671619415283\n"
     ]
    },
    {
     "name": "stderr",
     "output_type": "stream",
     "text": [
      " 25%|██▍       | 200/815 [07:12<22:05,  2.16s/it]"
     ]
    },
    {
     "name": "stdout",
     "output_type": "stream",
     "text": [
      "Batch loss: 3.7468717098236084\n"
     ]
    },
    {
     "name": "stderr",
     "output_type": "stream",
     "text": [
      " 31%|███       | 250/815 [08:56<20:05,  2.13s/it]"
     ]
    },
    {
     "name": "stdout",
     "output_type": "stream",
     "text": [
      "Batch loss: 4.40576696395874\n"
     ]
    },
    {
     "name": "stderr",
     "output_type": "stream",
     "text": [
      " 37%|███▋      | 300/815 [10:49<19:54,  2.32s/it]"
     ]
    },
    {
     "name": "stdout",
     "output_type": "stream",
     "text": [
      "Batch loss: 4.4800543785095215\n"
     ]
    },
    {
     "name": "stderr",
     "output_type": "stream",
     "text": [
      " 43%|████▎     | 350/815 [12:43<18:19,  2.36s/it]"
     ]
    },
    {
     "name": "stdout",
     "output_type": "stream",
     "text": [
      "Batch loss: 5.058035850524902\n"
     ]
    },
    {
     "name": "stderr",
     "output_type": "stream",
     "text": [
      " 49%|████▉     | 400/815 [14:34<15:49,  2.29s/it]"
     ]
    },
    {
     "name": "stdout",
     "output_type": "stream",
     "text": [
      "Batch loss: 4.907619476318359\n"
     ]
    },
    {
     "name": "stderr",
     "output_type": "stream",
     "text": [
      " 55%|█████▌    | 450/815 [16:34<15:22,  2.53s/it]"
     ]
    },
    {
     "name": "stdout",
     "output_type": "stream",
     "text": [
      "Batch loss: 4.57636022567749\n"
     ]
    },
    {
     "name": "stderr",
     "output_type": "stream",
     "text": [
      " 61%|██████▏   | 500/815 [18:37<13:09,  2.51s/it]"
     ]
    },
    {
     "name": "stdout",
     "output_type": "stream",
     "text": [
      "Batch loss: 5.070274353027344\n"
     ]
    },
    {
     "name": "stderr",
     "output_type": "stream",
     "text": [
      " 67%|██████▋   | 550/815 [20:38<10:25,  2.36s/it]"
     ]
    },
    {
     "name": "stdout",
     "output_type": "stream",
     "text": [
      "Batch loss: 5.494345664978027\n"
     ]
    },
    {
     "name": "stderr",
     "output_type": "stream",
     "text": [
      " 74%|███████▎  | 600/815 [22:40<08:26,  2.36s/it]"
     ]
    },
    {
     "name": "stdout",
     "output_type": "stream",
     "text": [
      "Batch loss: 5.036488056182861\n"
     ]
    },
    {
     "name": "stderr",
     "output_type": "stream",
     "text": [
      " 80%|███████▉  | 650/815 [24:48<06:18,  2.30s/it]"
     ]
    },
    {
     "name": "stdout",
     "output_type": "stream",
     "text": [
      "Batch loss: 4.914917945861816\n"
     ]
    },
    {
     "name": "stderr",
     "output_type": "stream",
     "text": [
      " 86%|████████▌ | 700/815 [26:58<04:57,  2.59s/it]"
     ]
    },
    {
     "name": "stdout",
     "output_type": "stream",
     "text": [
      "Batch loss: 5.657924175262451\n"
     ]
    },
    {
     "name": "stderr",
     "output_type": "stream",
     "text": [
      " 92%|█████████▏| 750/815 [29:07<02:57,  2.73s/it]"
     ]
    },
    {
     "name": "stdout",
     "output_type": "stream",
     "text": [
      "Batch loss: 4.824808120727539\n"
     ]
    },
    {
     "name": "stderr",
     "output_type": "stream",
     "text": [
      " 98%|█████████▊| 800/815 [31:11<00:41,  2.78s/it]"
     ]
    },
    {
     "name": "stdout",
     "output_type": "stream",
     "text": [
      "Batch loss: 5.306610584259033\n"
     ]
    },
    {
     "name": "stderr",
     "output_type": "stream",
     "text": [
      "100%|██████████| 815/815 [31:50<00:00,  2.34s/it]\n",
      "  0%|          | 1/246 [00:00<00:32,  7.45it/s]"
     ]
    },
    {
     "name": "stdout",
     "output_type": "stream",
     "text": [
      "Train Loss:  4.948814445039246\n"
     ]
    },
    {
     "name": "stderr",
     "output_type": "stream",
     "text": [
      "100%|██████████| 246/246 [00:37<00:00,  6.65it/s]\n",
      "  0%|          | 0/815 [00:00<?, ?it/s]"
     ]
    },
    {
     "name": "stdout",
     "output_type": "stream",
     "text": [
      "Valid Loss:  5.302370870985636\n",
      "Epoch:  2\n",
      "Batch loss: 4.452268600463867\n"
     ]
    },
    {
     "name": "stderr",
     "output_type": "stream",
     "text": [
      "  6%|▌         | 50/815 [02:20<35:14,  2.76s/it]"
     ]
    },
    {
     "name": "stdout",
     "output_type": "stream",
     "text": [
      "Batch loss: 4.3283491134643555\n"
     ]
    },
    {
     "name": "stderr",
     "output_type": "stream",
     "text": [
      " 12%|█▏        | 100/815 [04:28<30:30,  2.56s/it]"
     ]
    },
    {
     "name": "stdout",
     "output_type": "stream",
     "text": [
      "Batch loss: 4.705445766448975\n"
     ]
    },
    {
     "name": "stderr",
     "output_type": "stream",
     "text": [
      " 18%|█▊        | 150/815 [06:37<28:04,  2.53s/it]"
     ]
    },
    {
     "name": "stdout",
     "output_type": "stream",
     "text": [
      "Batch loss: 3.8910470008850098\n"
     ]
    },
    {
     "name": "stderr",
     "output_type": "stream",
     "text": [
      " 25%|██▍       | 200/815 [08:49<23:05,  2.25s/it]"
     ]
    },
    {
     "name": "stdout",
     "output_type": "stream",
     "text": [
      "Batch loss: 4.999866962432861\n"
     ]
    },
    {
     "name": "stderr",
     "output_type": "stream",
     "text": [
      " 31%|███       | 250/815 [11:06<25:49,  2.74s/it]"
     ]
    },
    {
     "name": "stdout",
     "output_type": "stream",
     "text": [
      "Batch loss: 4.451109409332275\n"
     ]
    },
    {
     "name": "stderr",
     "output_type": "stream",
     "text": [
      " 37%|███▋      | 300/815 [13:29<25:07,  2.93s/it]"
     ]
    },
    {
     "name": "stdout",
     "output_type": "stream",
     "text": [
      "Batch loss: 4.755239486694336\n"
     ]
    },
    {
     "name": "stderr",
     "output_type": "stream",
     "text": [
      " 43%|████▎     | 350/815 [15:55<22:51,  2.95s/it]"
     ]
    },
    {
     "name": "stdout",
     "output_type": "stream",
     "text": [
      "Batch loss: 4.482426643371582\n"
     ]
    },
    {
     "name": "stderr",
     "output_type": "stream",
     "text": [
      " 49%|████▉     | 400/815 [18:24<20:34,  2.97s/it]"
     ]
    },
    {
     "name": "stdout",
     "output_type": "stream",
     "text": [
      "Batch loss: 4.388445854187012\n"
     ]
    },
    {
     "name": "stderr",
     "output_type": "stream",
     "text": [
      " 55%|█████▌    | 450/815 [20:48<17:46,  2.92s/it]"
     ]
    },
    {
     "name": "stdout",
     "output_type": "stream",
     "text": [
      "Batch loss: 4.370365619659424\n"
     ]
    },
    {
     "name": "stderr",
     "output_type": "stream",
     "text": [
      " 61%|██████▏   | 500/815 [23:12<16:06,  3.07s/it]"
     ]
    },
    {
     "name": "stdout",
     "output_type": "stream",
     "text": [
      "Batch loss: 5.450248718261719\n"
     ]
    },
    {
     "name": "stderr",
     "output_type": "stream",
     "text": [
      " 67%|██████▋   | 550/815 [25:37<14:32,  3.29s/it]"
     ]
    },
    {
     "name": "stdout",
     "output_type": "stream",
     "text": [
      "Batch loss: 4.972387790679932\n"
     ]
    },
    {
     "name": "stderr",
     "output_type": "stream",
     "text": [
      " 74%|███████▎  | 600/815 [28:09<10:36,  2.96s/it]"
     ]
    },
    {
     "name": "stdout",
     "output_type": "stream",
     "text": [
      "Batch loss: 4.775010585784912\n"
     ]
    },
    {
     "name": "stderr",
     "output_type": "stream",
     "text": [
      " 80%|███████▉  | 650/815 [30:36<08:35,  3.13s/it]"
     ]
    },
    {
     "name": "stdout",
     "output_type": "stream",
     "text": [
      "Batch loss: 4.358238220214844\n"
     ]
    },
    {
     "name": "stderr",
     "output_type": "stream",
     "text": [
      " 86%|████████▌ | 700/815 [33:02<05:29,  2.87s/it]"
     ]
    },
    {
     "name": "stdout",
     "output_type": "stream",
     "text": [
      "Batch loss: 4.663406848907471\n"
     ]
    },
    {
     "name": "stderr",
     "output_type": "stream",
     "text": [
      " 92%|█████████▏| 750/815 [35:42<03:27,  3.19s/it]"
     ]
    },
    {
     "name": "stdout",
     "output_type": "stream",
     "text": [
      "Batch loss: 4.661268711090088\n"
     ]
    },
    {
     "name": "stderr",
     "output_type": "stream",
     "text": [
      " 98%|█████████▊| 800/815 [38:14<00:45,  3.03s/it]"
     ]
    },
    {
     "name": "stdout",
     "output_type": "stream",
     "text": [
      "Batch loss: 5.058087348937988\n"
     ]
    },
    {
     "name": "stderr",
     "output_type": "stream",
     "text": [
      "100%|██████████| 815/815 [39:00<00:00,  2.87s/it]\n",
      "  0%|          | 1/246 [00:00<00:33,  7.26it/s]"
     ]
    },
    {
     "name": "stdout",
     "output_type": "stream",
     "text": [
      "Train Loss:  4.5680542185262665\n"
     ]
    },
    {
     "name": "stderr",
     "output_type": "stream",
     "text": [
      "100%|██████████| 246/246 [00:37<00:00,  6.61it/s]\n",
      "  0%|          | 0/815 [00:00<?, ?it/s]"
     ]
    },
    {
     "name": "stdout",
     "output_type": "stream",
     "text": [
      "Valid Loss:  5.298550243300151\n",
      "Epoch:  3\n",
      "Batch loss: 4.099019527435303\n"
     ]
    },
    {
     "name": "stderr",
     "output_type": "stream",
     "text": [
      "  6%|▌         | 50/815 [02:37<40:20,  3.16s/it]"
     ]
    },
    {
     "name": "stdout",
     "output_type": "stream",
     "text": [
      "Batch loss: 3.741877794265747\n"
     ]
    },
    {
     "name": "stderr",
     "output_type": "stream",
     "text": [
      " 12%|█▏        | 100/815 [05:19<42:02,  3.53s/it]"
     ]
    },
    {
     "name": "stdout",
     "output_type": "stream",
     "text": [
      "Batch loss: 4.618208408355713\n"
     ]
    },
    {
     "name": "stderr",
     "output_type": "stream",
     "text": [
      " 18%|█▊        | 150/815 [08:04<36:12,  3.27s/it]"
     ]
    },
    {
     "name": "stdout",
     "output_type": "stream",
     "text": [
      "Batch loss: 4.704126834869385\n"
     ]
    },
    {
     "name": "stderr",
     "output_type": "stream",
     "text": [
      " 25%|██▍       | 200/815 [11:00<34:14,  3.34s/it]"
     ]
    },
    {
     "name": "stdout",
     "output_type": "stream",
     "text": [
      "Batch loss: 4.308989524841309\n"
     ]
    },
    {
     "name": "stderr",
     "output_type": "stream",
     "text": [
      " 31%|███       | 250/815 [13:50<37:10,  3.95s/it]"
     ]
    },
    {
     "name": "stdout",
     "output_type": "stream",
     "text": [
      "Batch loss: 4.445973873138428\n"
     ]
    },
    {
     "name": "stderr",
     "output_type": "stream",
     "text": [
      " 37%|███▋      | 300/815 [16:39<28:48,  3.36s/it]"
     ]
    },
    {
     "name": "stdout",
     "output_type": "stream",
     "text": [
      "Batch loss: 3.8028063774108887\n"
     ]
    },
    {
     "name": "stderr",
     "output_type": "stream",
     "text": [
      " 43%|████▎     | 350/815 [19:33<24:43,  3.19s/it]"
     ]
    },
    {
     "name": "stdout",
     "output_type": "stream",
     "text": [
      "Batch loss: 3.313645839691162\n"
     ]
    },
    {
     "name": "stderr",
     "output_type": "stream",
     "text": [
      " 49%|████▉     | 400/815 [22:18<21:49,  3.16s/it]"
     ]
    },
    {
     "name": "stdout",
     "output_type": "stream",
     "text": [
      "Batch loss: 3.9192097187042236\n"
     ]
    },
    {
     "name": "stderr",
     "output_type": "stream",
     "text": [
      " 55%|█████▌    | 450/815 [25:04<19:14,  3.16s/it]"
     ]
    },
    {
     "name": "stdout",
     "output_type": "stream",
     "text": [
      "Batch loss: 4.050736427307129\n"
     ]
    },
    {
     "name": "stderr",
     "output_type": "stream",
     "text": [
      " 61%|██████▏   | 500/815 [27:48<17:48,  3.39s/it]"
     ]
    },
    {
     "name": "stdout",
     "output_type": "stream",
     "text": [
      "Batch loss: 4.386102676391602\n"
     ]
    },
    {
     "name": "stderr",
     "output_type": "stream",
     "text": [
      " 67%|██████▋   | 550/815 [30:44<16:23,  3.71s/it]"
     ]
    },
    {
     "name": "stdout",
     "output_type": "stream",
     "text": [
      "Batch loss: 3.4617974758148193\n"
     ]
    },
    {
     "name": "stderr",
     "output_type": "stream",
     "text": [
      " 74%|███████▎  | 600/815 [33:35<12:13,  3.41s/it]"
     ]
    },
    {
     "name": "stdout",
     "output_type": "stream",
     "text": [
      "Batch loss: 4.043606758117676\n"
     ]
    },
    {
     "name": "stderr",
     "output_type": "stream",
     "text": [
      " 80%|███████▉  | 650/815 [36:25<09:21,  3.40s/it]"
     ]
    },
    {
     "name": "stdout",
     "output_type": "stream",
     "text": [
      "Batch loss: 4.190135955810547\n"
     ]
    },
    {
     "name": "stderr",
     "output_type": "stream",
     "text": [
      " 86%|████████▌ | 700/815 [39:13<07:00,  3.66s/it]"
     ]
    },
    {
     "name": "stdout",
     "output_type": "stream",
     "text": [
      "Batch loss: 4.3465423583984375\n"
     ]
    },
    {
     "name": "stderr",
     "output_type": "stream",
     "text": [
      " 92%|█████████▏| 750/815 [42:01<03:29,  3.22s/it]"
     ]
    },
    {
     "name": "stdout",
     "output_type": "stream",
     "text": [
      "Batch loss: 3.7442753314971924\n"
     ]
    },
    {
     "name": "stderr",
     "output_type": "stream",
     "text": [
      " 98%|█████████▊| 800/815 [44:49<00:51,  3.43s/it]"
     ]
    },
    {
     "name": "stdout",
     "output_type": "stream",
     "text": [
      "Batch loss: 3.9121341705322266\n"
     ]
    },
    {
     "name": "stderr",
     "output_type": "stream",
     "text": [
      "100%|██████████| 815/815 [45:37<00:00,  3.36s/it]\n",
      "  0%|          | 1/246 [00:00<00:34,  7.18it/s]"
     ]
    },
    {
     "name": "stdout",
     "output_type": "stream",
     "text": [
      "Train Loss:  4.1693411443862445\n"
     ]
    },
    {
     "name": "stderr",
     "output_type": "stream",
     "text": [
      "100%|██████████| 246/246 [00:37<00:00,  6.61it/s]\n",
      "  0%|          | 0/815 [00:00<?, ?it/s]"
     ]
    },
    {
     "name": "stdout",
     "output_type": "stream",
     "text": [
      "Valid Loss:  5.400744863641941\n",
      "Epoch:  4\n",
      "Batch loss: 3.3257477283477783\n"
     ]
    },
    {
     "name": "stderr",
     "output_type": "stream",
     "text": [
      "  6%|▌         | 50/815 [02:47<43:47,  3.43s/it]"
     ]
    },
    {
     "name": "stdout",
     "output_type": "stream",
     "text": [
      "Batch loss: 3.4063024520874023\n"
     ]
    },
    {
     "name": "stderr",
     "output_type": "stream",
     "text": [
      " 12%|█▏        | 100/815 [05:42<45:48,  3.84s/it]"
     ]
    },
    {
     "name": "stdout",
     "output_type": "stream",
     "text": [
      "Batch loss: 3.143744468688965\n"
     ]
    },
    {
     "name": "stderr",
     "output_type": "stream",
     "text": [
      " 18%|█▊        | 150/815 [08:39<39:50,  3.60s/it]"
     ]
    },
    {
     "name": "stdout",
     "output_type": "stream",
     "text": [
      "Batch loss: 3.3061907291412354\n"
     ]
    },
    {
     "name": "stderr",
     "output_type": "stream",
     "text": [
      " 25%|██▍       | 200/815 [11:34<38:55,  3.80s/it]"
     ]
    },
    {
     "name": "stdout",
     "output_type": "stream",
     "text": [
      "Batch loss: 3.6147968769073486\n"
     ]
    },
    {
     "name": "stderr",
     "output_type": "stream",
     "text": [
      " 31%|███       | 250/815 [14:41<35:46,  3.80s/it]"
     ]
    },
    {
     "name": "stdout",
     "output_type": "stream",
     "text": [
      "Batch loss: 3.790419101715088\n"
     ]
    },
    {
     "name": "stderr",
     "output_type": "stream",
     "text": [
      " 37%|███▋      | 300/815 [17:48<31:27,  3.66s/it]"
     ]
    },
    {
     "name": "stdout",
     "output_type": "stream",
     "text": [
      "Batch loss: 3.5831897258758545\n"
     ]
    },
    {
     "name": "stderr",
     "output_type": "stream",
     "text": [
      " 43%|████▎     | 350/815 [20:48<26:34,  3.43s/it]"
     ]
    },
    {
     "name": "stdout",
     "output_type": "stream",
     "text": [
      "Batch loss: 2.985292911529541\n"
     ]
    },
    {
     "name": "stderr",
     "output_type": "stream",
     "text": [
      " 49%|████▉     | 400/815 [23:36<23:46,  3.44s/it]"
     ]
    },
    {
     "name": "stdout",
     "output_type": "stream",
     "text": [
      "Batch loss: 4.0829925537109375\n"
     ]
    },
    {
     "name": "stderr",
     "output_type": "stream",
     "text": [
      " 55%|█████▌    | 450/815 [26:48<23:54,  3.93s/it]"
     ]
    },
    {
     "name": "stdout",
     "output_type": "stream",
     "text": [
      "Batch loss: 4.112549781799316\n"
     ]
    },
    {
     "name": "stderr",
     "output_type": "stream",
     "text": [
      " 61%|██████▏   | 500/815 [30:10<21:14,  4.04s/it]"
     ]
    },
    {
     "name": "stdout",
     "output_type": "stream",
     "text": [
      "Batch loss: 3.005566358566284\n"
     ]
    },
    {
     "name": "stderr",
     "output_type": "stream",
     "text": [
      " 67%|██████▋   | 550/815 [33:23<17:16,  3.91s/it]"
     ]
    },
    {
     "name": "stdout",
     "output_type": "stream",
     "text": [
      "Batch loss: 3.5043983459472656\n"
     ]
    },
    {
     "name": "stderr",
     "output_type": "stream",
     "text": [
      " 74%|███████▎  | 600/815 [36:43<15:38,  4.37s/it]"
     ]
    },
    {
     "name": "stdout",
     "output_type": "stream",
     "text": [
      "Batch loss: 3.323516607284546\n"
     ]
    },
    {
     "name": "stderr",
     "output_type": "stream",
     "text": [
      " 80%|███████▉  | 650/815 [40:09<11:01,  4.01s/it]"
     ]
    },
    {
     "name": "stdout",
     "output_type": "stream",
     "text": [
      "Batch loss: 4.465643405914307\n"
     ]
    },
    {
     "name": "stderr",
     "output_type": "stream",
     "text": [
      " 86%|████████▌ | 700/815 [43:25<07:12,  3.76s/it]"
     ]
    },
    {
     "name": "stdout",
     "output_type": "stream",
     "text": [
      "Batch loss: 3.414965867996216\n"
     ]
    },
    {
     "name": "stderr",
     "output_type": "stream",
     "text": [
      " 92%|█████████▏| 750/815 [46:39<04:22,  4.03s/it]"
     ]
    },
    {
     "name": "stdout",
     "output_type": "stream",
     "text": [
      "Batch loss: 3.526705741882324\n"
     ]
    },
    {
     "name": "stderr",
     "output_type": "stream",
     "text": [
      " 98%|█████████▊| 800/815 [49:52<00:56,  3.78s/it]"
     ]
    },
    {
     "name": "stdout",
     "output_type": "stream",
     "text": [
      "Batch loss: 3.583662748336792\n"
     ]
    },
    {
     "name": "stderr",
     "output_type": "stream",
     "text": [
      "100%|██████████| 815/815 [50:47<00:00,  3.74s/it]\n",
      "  0%|          | 1/246 [00:00<00:35,  6.98it/s]"
     ]
    },
    {
     "name": "stdout",
     "output_type": "stream",
     "text": [
      "Train Loss:  3.785942546282809\n"
     ]
    },
    {
     "name": "stderr",
     "output_type": "stream",
     "text": [
      "100%|██████████| 246/246 [00:38<00:00,  6.37it/s]"
     ]
    },
    {
     "name": "stdout",
     "output_type": "stream",
     "text": [
      "Valid Loss:  5.534378040127638\n"
     ]
    },
    {
     "name": "stderr",
     "output_type": "stream",
     "text": [
      "\n"
     ]
    }
   ],
   "source": [
    "# train 3 more epochs\n",
    "EPOCHS = 5\n",
    "best = 100000\n",
    "\n",
    "for epoch in range(EPOCHS):\n",
    "    print('Epoch: ', epoch)\n",
    "    \n",
    "    train_loss = train_one_epoch(model, train_dl, optimizer, loss_func)\n",
    "    print('Train Loss: ', train_loss)\n",
    "    \n",
    "    valid_loss = evaluate(model, valid_dl, loss_func)\n",
    "    print('Valid Loss: ', valid_loss)\n",
    "    \n",
    "    if valid_loss < best:\n",
    "        best = valid_loss\n",
    "        torch.save(model.state_dict(),  '../model/seq2seq_v2.pt')\n",
    "    scheduler.step(valid_loss)"
   ]
  },
  {
   "cell_type": "code",
   "execution_count": 997,
   "metadata": {},
   "outputs": [
    {
     "name": "stderr",
     "output_type": "stream",
     "text": [
      "  0%|          | 0/815 [00:00<?, ?it/s]"
     ]
    },
    {
     "name": "stdout",
     "output_type": "stream",
     "text": [
      "Epoch:  0\n",
      "Batch loss: 3.288926124572754\n"
     ]
    },
    {
     "name": "stderr",
     "output_type": "stream",
     "text": [
      "  6%|▌         | 50/815 [03:16<54:12,  4.25s/it]"
     ]
    },
    {
     "name": "stdout",
     "output_type": "stream",
     "text": [
      "Batch loss: 3.414789915084839\n"
     ]
    },
    {
     "name": "stderr",
     "output_type": "stream",
     "text": [
      " 12%|█▏        | 100/815 [06:30<44:12,  3.71s/it]"
     ]
    },
    {
     "name": "stdout",
     "output_type": "stream",
     "text": [
      "Batch loss: 3.8100411891937256\n"
     ]
    },
    {
     "name": "stderr",
     "output_type": "stream",
     "text": [
      " 18%|█▊        | 150/815 [09:36<40:58,  3.70s/it]"
     ]
    },
    {
     "name": "stdout",
     "output_type": "stream",
     "text": [
      "Batch loss: 3.1686458587646484\n"
     ]
    },
    {
     "name": "stderr",
     "output_type": "stream",
     "text": [
      " 25%|██▍       | 200/815 [12:46<43:41,  4.26s/it]"
     ]
    },
    {
     "name": "stdout",
     "output_type": "stream",
     "text": [
      "Batch loss: 3.845310926437378\n"
     ]
    },
    {
     "name": "stderr",
     "output_type": "stream",
     "text": [
      " 31%|███       | 250/815 [16:00<36:46,  3.91s/it]"
     ]
    },
    {
     "name": "stdout",
     "output_type": "stream",
     "text": [
      "Batch loss: 3.3212952613830566\n"
     ]
    },
    {
     "name": "stderr",
     "output_type": "stream",
     "text": [
      " 37%|███▋      | 300/815 [19:08<32:42,  3.81s/it]"
     ]
    },
    {
     "name": "stdout",
     "output_type": "stream",
     "text": [
      "Batch loss: 3.789381265640259\n"
     ]
    },
    {
     "name": "stderr",
     "output_type": "stream",
     "text": [
      " 43%|████▎     | 350/815 [22:30<33:53,  4.37s/it]"
     ]
    },
    {
     "name": "stdout",
     "output_type": "stream",
     "text": [
      "Batch loss: 3.0993900299072266\n"
     ]
    },
    {
     "name": "stderr",
     "output_type": "stream",
     "text": [
      " 49%|████▉     | 400/815 [25:44<24:51,  3.59s/it]"
     ]
    },
    {
     "name": "stdout",
     "output_type": "stream",
     "text": [
      "Batch loss: 3.411149024963379\n"
     ]
    },
    {
     "name": "stderr",
     "output_type": "stream",
     "text": [
      " 55%|█████▌    | 450/815 [29:02<24:55,  4.10s/it]"
     ]
    },
    {
     "name": "stdout",
     "output_type": "stream",
     "text": [
      "Batch loss: 3.4105095863342285\n"
     ]
    },
    {
     "name": "stderr",
     "output_type": "stream",
     "text": [
      " 61%|██████▏   | 500/815 [32:26<21:06,  4.02s/it]"
     ]
    },
    {
     "name": "stdout",
     "output_type": "stream",
     "text": [
      "Batch loss: 2.8929407596588135\n"
     ]
    },
    {
     "name": "stderr",
     "output_type": "stream",
     "text": [
      " 67%|██████▋   | 550/815 [35:53<20:29,  4.64s/it]"
     ]
    },
    {
     "name": "stdout",
     "output_type": "stream",
     "text": [
      "Batch loss: 3.216747283935547\n"
     ]
    },
    {
     "name": "stderr",
     "output_type": "stream",
     "text": [
      " 74%|███████▎  | 600/815 [39:27<15:32,  4.34s/it]"
     ]
    },
    {
     "name": "stdout",
     "output_type": "stream",
     "text": [
      "Batch loss: 3.544886589050293\n"
     ]
    },
    {
     "name": "stderr",
     "output_type": "stream",
     "text": [
      " 80%|███████▉  | 650/815 [43:03<11:51,  4.31s/it]"
     ]
    },
    {
     "name": "stdout",
     "output_type": "stream",
     "text": [
      "Batch loss: 2.9218175411224365\n"
     ]
    },
    {
     "name": "stderr",
     "output_type": "stream",
     "text": [
      " 86%|████████▌ | 700/815 [46:47<09:08,  4.77s/it]"
     ]
    },
    {
     "name": "stdout",
     "output_type": "stream",
     "text": [
      "Batch loss: 3.202073335647583\n"
     ]
    },
    {
     "name": "stderr",
     "output_type": "stream",
     "text": [
      " 92%|█████████▏| 750/815 [49:57<04:02,  3.72s/it]"
     ]
    },
    {
     "name": "stdout",
     "output_type": "stream",
     "text": [
      "Batch loss: 3.414421796798706\n"
     ]
    },
    {
     "name": "stderr",
     "output_type": "stream",
     "text": [
      " 98%|█████████▊| 800/815 [53:34<01:13,  4.93s/it]"
     ]
    },
    {
     "name": "stdout",
     "output_type": "stream",
     "text": [
      "Batch loss: 3.6156392097473145\n"
     ]
    },
    {
     "name": "stderr",
     "output_type": "stream",
     "text": [
      "100%|██████████| 815/815 [54:36<00:00,  4.02s/it]\n",
      "  0%|          | 1/246 [00:00<00:34,  7.13it/s]"
     ]
    },
    {
     "name": "stdout",
     "output_type": "stream",
     "text": [
      "Train Loss:  3.4243136359138724\n"
     ]
    },
    {
     "name": "stderr",
     "output_type": "stream",
     "text": [
      "100%|██████████| 246/246 [00:38<00:00,  6.44it/s]\n",
      "  0%|          | 0/815 [00:00<?, ?it/s]"
     ]
    },
    {
     "name": "stdout",
     "output_type": "stream",
     "text": [
      "Valid Loss:  5.637188906592082\n",
      "Epoch:  1\n",
      "Batch loss: 2.9150452613830566\n"
     ]
    },
    {
     "name": "stderr",
     "output_type": "stream",
     "text": [
      "  6%|▌         | 50/815 [03:22<47:27,  3.72s/it] "
     ]
    },
    {
     "name": "stdout",
     "output_type": "stream",
     "text": [
      "Batch loss: 2.872051239013672\n"
     ]
    },
    {
     "name": "stderr",
     "output_type": "stream",
     "text": [
      " 12%|█▏        | 100/815 [06:37<42:19,  3.55s/it]"
     ]
    },
    {
     "name": "stdout",
     "output_type": "stream",
     "text": [
      "Batch loss: 3.5218050479888916\n"
     ]
    },
    {
     "name": "stderr",
     "output_type": "stream",
     "text": [
      " 18%|█▊        | 150/815 [10:00<47:43,  4.31s/it]"
     ]
    },
    {
     "name": "stdout",
     "output_type": "stream",
     "text": [
      "Batch loss: 2.2760303020477295\n"
     ]
    },
    {
     "name": "stderr",
     "output_type": "stream",
     "text": [
      " 25%|██▍       | 200/815 [13:23<45:24,  4.43s/it]"
     ]
    },
    {
     "name": "stdout",
     "output_type": "stream",
     "text": [
      "Batch loss: 2.534259796142578\n"
     ]
    },
    {
     "name": "stderr",
     "output_type": "stream",
     "text": [
      " 31%|███       | 250/815 [16:57<40:21,  4.29s/it]"
     ]
    },
    {
     "name": "stdout",
     "output_type": "stream",
     "text": [
      "Batch loss: 3.201436758041382\n"
     ]
    },
    {
     "name": "stderr",
     "output_type": "stream",
     "text": [
      " 37%|███▋      | 300/815 [20:28<36:23,  4.24s/it]"
     ]
    },
    {
     "name": "stdout",
     "output_type": "stream",
     "text": [
      "Batch loss: 2.47163987159729\n"
     ]
    },
    {
     "name": "stderr",
     "output_type": "stream",
     "text": [
      " 43%|████▎     | 350/815 [23:54<32:35,  4.21s/it]"
     ]
    },
    {
     "name": "stdout",
     "output_type": "stream",
     "text": [
      "Batch loss: 3.678468704223633\n"
     ]
    },
    {
     "name": "stderr",
     "output_type": "stream",
     "text": [
      " 49%|████▉     | 400/815 [27:19<30:08,  4.36s/it]"
     ]
    },
    {
     "name": "stdout",
     "output_type": "stream",
     "text": [
      "Batch loss: 2.214231252670288\n"
     ]
    },
    {
     "name": "stderr",
     "output_type": "stream",
     "text": [
      " 55%|█████▌    | 450/815 [30:51<27:25,  4.51s/it]"
     ]
    },
    {
     "name": "stdout",
     "output_type": "stream",
     "text": [
      "Batch loss: 2.467954158782959\n"
     ]
    },
    {
     "name": "stderr",
     "output_type": "stream",
     "text": [
      " 61%|██████▏   | 500/815 [34:24<21:55,  4.17s/it]"
     ]
    },
    {
     "name": "stdout",
     "output_type": "stream",
     "text": [
      "Batch loss: 2.7676095962524414\n"
     ]
    },
    {
     "name": "stderr",
     "output_type": "stream",
     "text": [
      " 67%|██████▋   | 550/815 [38:00<19:47,  4.48s/it]"
     ]
    },
    {
     "name": "stdout",
     "output_type": "stream",
     "text": [
      "Batch loss: 2.725208282470703\n"
     ]
    },
    {
     "name": "stderr",
     "output_type": "stream",
     "text": [
      " 74%|███████▎  | 600/815 [41:28<14:03,  3.92s/it]"
     ]
    },
    {
     "name": "stdout",
     "output_type": "stream",
     "text": [
      "Batch loss: 3.2858006954193115\n"
     ]
    },
    {
     "name": "stderr",
     "output_type": "stream",
     "text": [
      " 80%|███████▉  | 650/815 [44:55<11:39,  4.24s/it]"
     ]
    },
    {
     "name": "stdout",
     "output_type": "stream",
     "text": [
      "Batch loss: 2.145493745803833\n"
     ]
    },
    {
     "name": "stderr",
     "output_type": "stream",
     "text": [
      " 86%|████████▌ | 700/815 [48:23<07:33,  3.94s/it]"
     ]
    },
    {
     "name": "stdout",
     "output_type": "stream",
     "text": [
      "Batch loss: 2.4268274307250977\n"
     ]
    },
    {
     "name": "stderr",
     "output_type": "stream",
     "text": [
      " 92%|█████████▏| 750/815 [51:53<04:29,  4.15s/it]"
     ]
    },
    {
     "name": "stdout",
     "output_type": "stream",
     "text": [
      "Batch loss: 2.3707268238067627\n"
     ]
    },
    {
     "name": "stderr",
     "output_type": "stream",
     "text": [
      " 98%|█████████▊| 800/815 [55:23<01:00,  4.00s/it]"
     ]
    },
    {
     "name": "stdout",
     "output_type": "stream",
     "text": [
      "Batch loss: 2.6273157596588135\n"
     ]
    },
    {
     "name": "stderr",
     "output_type": "stream",
     "text": [
      "100%|██████████| 815/815 [56:23<00:00,  4.15s/it]\n",
      "  0%|          | 1/246 [00:00<00:33,  7.34it/s]"
     ]
    },
    {
     "name": "stdout",
     "output_type": "stream",
     "text": [
      "Train Loss:  2.790878115987485\n"
     ]
    },
    {
     "name": "stderr",
     "output_type": "stream",
     "text": [
      "100%|██████████| 246/246 [00:38<00:00,  6.42it/s]\n",
      "  0%|          | 0/815 [00:00<?, ?it/s]"
     ]
    },
    {
     "name": "stdout",
     "output_type": "stream",
     "text": [
      "Valid Loss:  5.594459586996373\n",
      "Epoch:  2\n",
      "Batch loss: 2.726550340652466\n"
     ]
    },
    {
     "name": "stderr",
     "output_type": "stream",
     "text": [
      "  6%|▌         | 50/815 [03:25<52:53,  4.15s/it] "
     ]
    },
    {
     "name": "stdout",
     "output_type": "stream",
     "text": [
      "Batch loss: 2.2560372352600098\n"
     ]
    },
    {
     "name": "stderr",
     "output_type": "stream",
     "text": [
      " 12%|█▏        | 100/815 [06:49<45:06,  3.78s/it]"
     ]
    },
    {
     "name": "stdout",
     "output_type": "stream",
     "text": [
      "Batch loss: 2.20487380027771\n"
     ]
    },
    {
     "name": "stderr",
     "output_type": "stream",
     "text": [
      " 18%|█▊        | 150/815 [10:17<43:44,  3.95s/it]"
     ]
    },
    {
     "name": "stdout",
     "output_type": "stream",
     "text": [
      "Batch loss: 2.6934564113616943\n"
     ]
    },
    {
     "name": "stderr",
     "output_type": "stream",
     "text": [
      " 25%|██▍       | 200/815 [13:40<38:08,  3.72s/it]"
     ]
    },
    {
     "name": "stdout",
     "output_type": "stream",
     "text": [
      "Batch loss: 2.464979648590088\n"
     ]
    },
    {
     "name": "stderr",
     "output_type": "stream",
     "text": [
      " 31%|███       | 250/815 [17:06<40:08,  4.26s/it]"
     ]
    },
    {
     "name": "stdout",
     "output_type": "stream",
     "text": [
      "Batch loss: 2.4355387687683105\n"
     ]
    },
    {
     "name": "stderr",
     "output_type": "stream",
     "text": [
      " 37%|███▋      | 300/815 [20:36<34:57,  4.07s/it]"
     ]
    },
    {
     "name": "stdout",
     "output_type": "stream",
     "text": [
      "Batch loss: 3.048360586166382\n"
     ]
    },
    {
     "name": "stderr",
     "output_type": "stream",
     "text": [
      " 43%|████▎     | 350/815 [24:09<34:06,  4.40s/it]"
     ]
    },
    {
     "name": "stdout",
     "output_type": "stream",
     "text": [
      "Batch loss: 2.4597342014312744\n"
     ]
    },
    {
     "name": "stderr",
     "output_type": "stream",
     "text": [
      " 49%|████▉     | 400/815 [27:49<29:19,  4.24s/it]"
     ]
    },
    {
     "name": "stdout",
     "output_type": "stream",
     "text": [
      "Batch loss: 2.3636250495910645\n"
     ]
    },
    {
     "name": "stderr",
     "output_type": "stream",
     "text": [
      " 55%|█████▌    | 450/815 [31:21<24:53,  4.09s/it]"
     ]
    },
    {
     "name": "stdout",
     "output_type": "stream",
     "text": [
      "Batch loss: 2.5591318607330322\n"
     ]
    },
    {
     "name": "stderr",
     "output_type": "stream",
     "text": [
      " 61%|██████▏   | 500/815 [34:47<21:51,  4.16s/it]"
     ]
    },
    {
     "name": "stdout",
     "output_type": "stream",
     "text": [
      "Batch loss: 2.2733094692230225\n"
     ]
    },
    {
     "name": "stderr",
     "output_type": "stream",
     "text": [
      " 67%|██████▋   | 550/815 [38:20<16:37,  3.77s/it]"
     ]
    },
    {
     "name": "stdout",
     "output_type": "stream",
     "text": [
      "Batch loss: 2.9847400188446045\n"
     ]
    },
    {
     "name": "stderr",
     "output_type": "stream",
     "text": [
      " 74%|███████▎  | 600/815 [41:47<15:17,  4.27s/it]"
     ]
    },
    {
     "name": "stdout",
     "output_type": "stream",
     "text": [
      "Batch loss: 5.43100118637085\n"
     ]
    },
    {
     "name": "stderr",
     "output_type": "stream",
     "text": [
      " 80%|███████▉  | 650/815 [45:17<11:00,  4.00s/it]"
     ]
    },
    {
     "name": "stdout",
     "output_type": "stream",
     "text": [
      "Batch loss: 2.220446825027466\n"
     ]
    },
    {
     "name": "stderr",
     "output_type": "stream",
     "text": [
      " 86%|████████▌ | 700/815 [48:45<08:04,  4.21s/it]"
     ]
    },
    {
     "name": "stdout",
     "output_type": "stream",
     "text": [
      "Batch loss: 2.8647167682647705\n"
     ]
    },
    {
     "name": "stderr",
     "output_type": "stream",
     "text": [
      " 92%|█████████▏| 750/815 [52:09<04:28,  4.13s/it]"
     ]
    },
    {
     "name": "stdout",
     "output_type": "stream",
     "text": [
      "Batch loss: 2.273334264755249\n"
     ]
    },
    {
     "name": "stderr",
     "output_type": "stream",
     "text": [
      " 98%|█████████▊| 800/815 [55:31<01:00,  4.01s/it]"
     ]
    },
    {
     "name": "stdout",
     "output_type": "stream",
     "text": [
      "Batch loss: 2.3467557430267334\n"
     ]
    },
    {
     "name": "stderr",
     "output_type": "stream",
     "text": [
      "100%|██████████| 815/815 [56:35<00:00,  4.17s/it]\n",
      "  0%|          | 1/246 [00:00<00:33,  7.40it/s]"
     ]
    },
    {
     "name": "stdout",
     "output_type": "stream",
     "text": [
      "Train Loss:  2.6437374335856525\n"
     ]
    },
    {
     "name": "stderr",
     "output_type": "stream",
     "text": [
      "100%|██████████| 246/246 [00:38<00:00,  6.39it/s]\n",
      "  0%|          | 0/815 [00:00<?, ?it/s]"
     ]
    },
    {
     "name": "stdout",
     "output_type": "stream",
     "text": [
      "Valid Loss:  5.583465581017781\n",
      "Epoch:  3\n",
      "Batch loss: 3.09397554397583\n"
     ]
    },
    {
     "name": "stderr",
     "output_type": "stream",
     "text": [
      "  6%|▌         | 50/815 [03:22<49:26,  3.88s/it]  "
     ]
    },
    {
     "name": "stdout",
     "output_type": "stream",
     "text": [
      "Batch loss: 3.3606300354003906\n"
     ]
    },
    {
     "name": "stderr",
     "output_type": "stream",
     "text": [
      " 12%|█▏        | 100/815 [06:44<45:10,  3.79s/it]"
     ]
    },
    {
     "name": "stdout",
     "output_type": "stream",
     "text": [
      "Batch loss: 2.7282838821411133\n"
     ]
    },
    {
     "name": "stderr",
     "output_type": "stream",
     "text": [
      " 18%|█▊        | 150/815 [10:13<45:01,  4.06s/it]"
     ]
    },
    {
     "name": "stdout",
     "output_type": "stream",
     "text": [
      "Batch loss: 2.155843496322632\n"
     ]
    },
    {
     "name": "stderr",
     "output_type": "stream",
     "text": [
      " 25%|██▍       | 200/815 [13:38<40:45,  3.98s/it]"
     ]
    },
    {
     "name": "stdout",
     "output_type": "stream",
     "text": [
      "Batch loss: 2.618917465209961\n"
     ]
    },
    {
     "name": "stderr",
     "output_type": "stream",
     "text": [
      " 31%|███       | 250/815 [17:05<38:48,  4.12s/it]"
     ]
    },
    {
     "name": "stdout",
     "output_type": "stream",
     "text": [
      "Batch loss: 2.3020286560058594\n"
     ]
    },
    {
     "name": "stderr",
     "output_type": "stream",
     "text": [
      " 37%|███▋      | 300/815 [20:27<32:48,  3.82s/it]"
     ]
    },
    {
     "name": "stdout",
     "output_type": "stream",
     "text": [
      "Batch loss: 2.600102663040161\n"
     ]
    },
    {
     "name": "stderr",
     "output_type": "stream",
     "text": [
      " 43%|████▎     | 350/815 [23:44<31:29,  4.06s/it]"
     ]
    },
    {
     "name": "stdout",
     "output_type": "stream",
     "text": [
      "Batch loss: 2.4871625900268555\n"
     ]
    },
    {
     "name": "stderr",
     "output_type": "stream",
     "text": [
      " 49%|████▉     | 400/815 [27:00<27:48,  4.02s/it]"
     ]
    },
    {
     "name": "stdout",
     "output_type": "stream",
     "text": [
      "Batch loss: 2.251356601715088\n"
     ]
    },
    {
     "name": "stderr",
     "output_type": "stream",
     "text": [
      " 55%|█████▌    | 450/815 [30:19<22:55,  3.77s/it]"
     ]
    },
    {
     "name": "stdout",
     "output_type": "stream",
     "text": [
      "Batch loss: 2.3514652252197266\n"
     ]
    },
    {
     "name": "stderr",
     "output_type": "stream",
     "text": [
      " 61%|██████▏   | 500/815 [33:40<20:47,  3.96s/it]"
     ]
    },
    {
     "name": "stdout",
     "output_type": "stream",
     "text": [
      "Batch loss: 2.5048694610595703\n"
     ]
    },
    {
     "name": "stderr",
     "output_type": "stream",
     "text": [
      " 67%|██████▋   | 550/815 [36:58<19:50,  4.49s/it]"
     ]
    },
    {
     "name": "stdout",
     "output_type": "stream",
     "text": [
      "Batch loss: 3.1336495876312256\n"
     ]
    },
    {
     "name": "stderr",
     "output_type": "stream",
     "text": [
      " 74%|███████▎  | 600/815 [40:18<13:47,  3.85s/it]"
     ]
    },
    {
     "name": "stdout",
     "output_type": "stream",
     "text": [
      "Batch loss: 2.9815351963043213\n"
     ]
    },
    {
     "name": "stderr",
     "output_type": "stream",
     "text": [
      " 80%|███████▉  | 650/815 [43:27<10:13,  3.72s/it]"
     ]
    },
    {
     "name": "stdout",
     "output_type": "stream",
     "text": [
      "Batch loss: 2.508789539337158\n"
     ]
    },
    {
     "name": "stderr",
     "output_type": "stream",
     "text": [
      " 86%|████████▌ | 700/815 [46:44<07:25,  3.88s/it]"
     ]
    },
    {
     "name": "stdout",
     "output_type": "stream",
     "text": [
      "Batch loss: 3.6661245822906494\n"
     ]
    },
    {
     "name": "stderr",
     "output_type": "stream",
     "text": [
      " 92%|█████████▏| 750/815 [49:54<04:27,  4.12s/it]"
     ]
    },
    {
     "name": "stdout",
     "output_type": "stream",
     "text": [
      "Batch loss: 2.8717665672302246\n"
     ]
    },
    {
     "name": "stderr",
     "output_type": "stream",
     "text": [
      " 98%|█████████▊| 800/815 [53:10<01:02,  4.17s/it]"
     ]
    },
    {
     "name": "stdout",
     "output_type": "stream",
     "text": [
      "Batch loss: 2.000945568084717\n"
     ]
    },
    {
     "name": "stderr",
     "output_type": "stream",
     "text": [
      "100%|██████████| 815/815 [54:09<00:00,  3.99s/it]\n",
      "  0%|          | 1/246 [00:00<00:34,  7.20it/s]"
     ]
    },
    {
     "name": "stdout",
     "output_type": "stream",
     "text": [
      "Train Loss:  2.6076464294655923\n"
     ]
    },
    {
     "name": "stderr",
     "output_type": "stream",
     "text": [
      "100%|██████████| 246/246 [00:38<00:00,  6.37it/s]\n",
      "  0%|          | 0/815 [00:00<?, ?it/s]"
     ]
    },
    {
     "name": "stdout",
     "output_type": "stream",
     "text": [
      "Valid Loss:  5.654313105877822\n",
      "Epoch:  4\n",
      "Batch loss: 2.846193790435791\n"
     ]
    },
    {
     "name": "stderr",
     "output_type": "stream",
     "text": [
      "  6%|▌         | 50/815 [03:17<49:47,  3.90s/it]  "
     ]
    },
    {
     "name": "stdout",
     "output_type": "stream",
     "text": [
      "Batch loss: 2.8823015689849854\n"
     ]
    },
    {
     "name": "stderr",
     "output_type": "stream",
     "text": [
      " 12%|█▏        | 100/815 [06:32<46:57,  3.94s/it]"
     ]
    },
    {
     "name": "stdout",
     "output_type": "stream",
     "text": [
      "Batch loss: 2.9183576107025146\n"
     ]
    },
    {
     "name": "stderr",
     "output_type": "stream",
     "text": [
      " 18%|█▊        | 150/815 [09:55<43:58,  3.97s/it]"
     ]
    },
    {
     "name": "stdout",
     "output_type": "stream",
     "text": [
      "Batch loss: 2.2155611515045166\n"
     ]
    },
    {
     "name": "stderr",
     "output_type": "stream",
     "text": [
      " 25%|██▍       | 200/815 [13:23<46:43,  4.56s/it]"
     ]
    },
    {
     "name": "stdout",
     "output_type": "stream",
     "text": [
      "Batch loss: 2.032561779022217\n"
     ]
    },
    {
     "name": "stderr",
     "output_type": "stream",
     "text": [
      " 31%|███       | 250/815 [16:35<37:14,  3.96s/it]"
     ]
    },
    {
     "name": "stdout",
     "output_type": "stream",
     "text": [
      "Batch loss: 2.2459986209869385\n"
     ]
    },
    {
     "name": "stderr",
     "output_type": "stream",
     "text": [
      " 37%|███▋      | 300/815 [19:59<35:49,  4.17s/it]"
     ]
    },
    {
     "name": "stdout",
     "output_type": "stream",
     "text": [
      "Batch loss: 2.5476529598236084\n"
     ]
    },
    {
     "name": "stderr",
     "output_type": "stream",
     "text": [
      " 43%|████▎     | 350/815 [23:16<31:07,  4.02s/it]"
     ]
    },
    {
     "name": "stdout",
     "output_type": "stream",
     "text": [
      "Batch loss: 2.8492627143859863\n"
     ]
    },
    {
     "name": "stderr",
     "output_type": "stream",
     "text": [
      " 49%|████▉     | 400/815 [26:33<27:07,  3.92s/it]"
     ]
    },
    {
     "name": "stdout",
     "output_type": "stream",
     "text": [
      "Batch loss: 1.7897876501083374\n"
     ]
    },
    {
     "name": "stderr",
     "output_type": "stream",
     "text": [
      " 55%|█████▌    | 450/815 [29:47<26:08,  4.30s/it]"
     ]
    },
    {
     "name": "stdout",
     "output_type": "stream",
     "text": [
      "Batch loss: 2.019622564315796\n"
     ]
    },
    {
     "name": "stderr",
     "output_type": "stream",
     "text": [
      " 61%|██████▏   | 500/815 [33:03<20:13,  3.85s/it]"
     ]
    },
    {
     "name": "stdout",
     "output_type": "stream",
     "text": [
      "Batch loss: 2.761882781982422\n"
     ]
    },
    {
     "name": "stderr",
     "output_type": "stream",
     "text": [
      " 67%|██████▋   | 550/815 [36:18<15:58,  3.62s/it]"
     ]
    },
    {
     "name": "stdout",
     "output_type": "stream",
     "text": [
      "Batch loss: 2.8901572227478027\n"
     ]
    },
    {
     "name": "stderr",
     "output_type": "stream",
     "text": [
      " 74%|███████▎  | 600/815 [39:28<13:16,  3.70s/it]"
     ]
    },
    {
     "name": "stdout",
     "output_type": "stream",
     "text": [
      "Batch loss: 1.900978684425354\n"
     ]
    },
    {
     "name": "stderr",
     "output_type": "stream",
     "text": [
      " 80%|███████▉  | 650/815 [42:45<09:51,  3.58s/it]"
     ]
    },
    {
     "name": "stdout",
     "output_type": "stream",
     "text": [
      "Batch loss: 5.615318775177002\n"
     ]
    },
    {
     "name": "stderr",
     "output_type": "stream",
     "text": [
      " 86%|████████▌ | 700/815 [45:52<07:06,  3.71s/it]"
     ]
    },
    {
     "name": "stdout",
     "output_type": "stream",
     "text": [
      "Batch loss: 2.9503657817840576\n"
     ]
    },
    {
     "name": "stderr",
     "output_type": "stream",
     "text": [
      " 92%|█████████▏| 750/815 [48:58<03:58,  3.68s/it]"
     ]
    },
    {
     "name": "stdout",
     "output_type": "stream",
     "text": [
      "Batch loss: 3.5136430263519287\n"
     ]
    },
    {
     "name": "stderr",
     "output_type": "stream",
     "text": [
      " 98%|█████████▊| 800/815 [52:13<01:01,  4.10s/it]"
     ]
    },
    {
     "name": "stdout",
     "output_type": "stream",
     "text": [
      "Batch loss: 2.2723207473754883\n"
     ]
    },
    {
     "name": "stderr",
     "output_type": "stream",
     "text": [
      "100%|██████████| 815/815 [53:12<00:00,  3.92s/it]\n",
      "  0%|          | 1/246 [00:00<00:33,  7.39it/s]"
     ]
    },
    {
     "name": "stdout",
     "output_type": "stream",
     "text": [
      "Train Loss:  2.535029107953873\n"
     ]
    },
    {
     "name": "stderr",
     "output_type": "stream",
     "text": [
      "100%|██████████| 246/246 [00:38<00:00,  6.37it/s]\n",
      "  0%|          | 0/815 [00:00<?, ?it/s]"
     ]
    },
    {
     "name": "stdout",
     "output_type": "stream",
     "text": [
      "Valid Loss:  5.690314993625734\n",
      "Epoch:  5\n",
      "Batch loss: 2.7379870414733887\n"
     ]
    },
    {
     "name": "stderr",
     "output_type": "stream",
     "text": [
      "  6%|▌         | 50/815 [03:14<48:53,  3.83s/it]"
     ]
    },
    {
     "name": "stdout",
     "output_type": "stream",
     "text": [
      "Batch loss: 2.6338717937469482\n"
     ]
    },
    {
     "name": "stderr",
     "output_type": "stream",
     "text": [
      " 12%|█▏        | 100/815 [06:27<44:08,  3.70s/it]"
     ]
    },
    {
     "name": "stdout",
     "output_type": "stream",
     "text": [
      "Batch loss: 1.9000340700149536\n"
     ]
    },
    {
     "name": "stderr",
     "output_type": "stream",
     "text": [
      " 18%|█▊        | 150/815 [09:47<44:42,  4.03s/it]"
     ]
    },
    {
     "name": "stdout",
     "output_type": "stream",
     "text": [
      "Batch loss: 2.1935083866119385\n"
     ]
    },
    {
     "name": "stderr",
     "output_type": "stream",
     "text": [
      " 25%|██▍       | 200/815 [13:05<41:58,  4.10s/it]"
     ]
    },
    {
     "name": "stdout",
     "output_type": "stream",
     "text": [
      "Batch loss: 2.5161638259887695\n"
     ]
    },
    {
     "name": "stderr",
     "output_type": "stream",
     "text": [
      " 31%|███       | 250/815 [16:23<34:01,  3.61s/it]"
     ]
    },
    {
     "name": "stdout",
     "output_type": "stream",
     "text": [
      "Batch loss: 1.8778728246688843\n"
     ]
    },
    {
     "name": "stderr",
     "output_type": "stream",
     "text": [
      " 37%|███▋      | 300/815 [19:42<35:35,  4.15s/it]"
     ]
    },
    {
     "name": "stdout",
     "output_type": "stream",
     "text": [
      "Batch loss: 2.527053117752075\n"
     ]
    },
    {
     "name": "stderr",
     "output_type": "stream",
     "text": [
      " 43%|████▎     | 350/815 [22:59<29:40,  3.83s/it]"
     ]
    },
    {
     "name": "stdout",
     "output_type": "stream",
     "text": [
      "Batch loss: 2.2019119262695312\n"
     ]
    },
    {
     "name": "stderr",
     "output_type": "stream",
     "text": [
      " 49%|████▉     | 400/815 [26:09<26:17,  3.80s/it]"
     ]
    },
    {
     "name": "stdout",
     "output_type": "stream",
     "text": [
      "Batch loss: 2.6438145637512207\n"
     ]
    },
    {
     "name": "stderr",
     "output_type": "stream",
     "text": [
      " 55%|█████▌    | 450/815 [29:21<22:36,  3.72s/it]"
     ]
    },
    {
     "name": "stdout",
     "output_type": "stream",
     "text": [
      "Batch loss: 2.1781039237976074\n"
     ]
    },
    {
     "name": "stderr",
     "output_type": "stream",
     "text": [
      " 61%|██████▏   | 500/815 [32:35<20:55,  3.98s/it]"
     ]
    },
    {
     "name": "stdout",
     "output_type": "stream",
     "text": [
      "Batch loss: 2.0165061950683594\n"
     ]
    },
    {
     "name": "stderr",
     "output_type": "stream",
     "text": [
      " 67%|██████▋   | 550/815 [35:51<15:49,  3.58s/it]"
     ]
    },
    {
     "name": "stdout",
     "output_type": "stream",
     "text": [
      "Batch loss: 2.249624490737915\n"
     ]
    },
    {
     "name": "stderr",
     "output_type": "stream",
     "text": [
      " 74%|███████▎  | 600/815 [39:03<13:05,  3.66s/it]"
     ]
    },
    {
     "name": "stdout",
     "output_type": "stream",
     "text": [
      "Batch loss: 1.8848438262939453\n"
     ]
    },
    {
     "name": "stderr",
     "output_type": "stream",
     "text": [
      " 80%|███████▉  | 650/815 [42:10<11:04,  4.03s/it]"
     ]
    },
    {
     "name": "stdout",
     "output_type": "stream",
     "text": [
      "Batch loss: 3.1240451335906982\n"
     ]
    },
    {
     "name": "stderr",
     "output_type": "stream",
     "text": [
      " 86%|████████▌ | 700/815 [45:26<08:04,  4.22s/it]"
     ]
    },
    {
     "name": "stdout",
     "output_type": "stream",
     "text": [
      "Batch loss: 2.5542349815368652\n"
     ]
    },
    {
     "name": "stderr",
     "output_type": "stream",
     "text": [
      " 92%|█████████▏| 750/815 [48:39<04:41,  4.33s/it]"
     ]
    },
    {
     "name": "stdout",
     "output_type": "stream",
     "text": [
      "Batch loss: 3.442044496536255\n"
     ]
    },
    {
     "name": "stderr",
     "output_type": "stream",
     "text": [
      " 98%|█████████▊| 800/815 [51:52<01:04,  4.30s/it]"
     ]
    },
    {
     "name": "stdout",
     "output_type": "stream",
     "text": [
      "Batch loss: 2.705294370651245\n"
     ]
    },
    {
     "name": "stderr",
     "output_type": "stream",
     "text": [
      "100%|██████████| 815/815 [52:51<00:00,  3.89s/it]\n",
      "  0%|          | 1/246 [00:00<00:35,  6.96it/s]"
     ]
    },
    {
     "name": "stdout",
     "output_type": "stream",
     "text": [
      "Train Loss:  2.4207137021550373\n"
     ]
    },
    {
     "name": "stderr",
     "output_type": "stream",
     "text": [
      "100%|██████████| 246/246 [00:38<00:00,  6.35it/s]\n",
      "  0%|          | 0/815 [00:00<?, ?it/s]"
     ]
    },
    {
     "name": "stdout",
     "output_type": "stream",
     "text": [
      "Valid Loss:  5.659771249546268\n",
      "Epoch:  6\n",
      "Batch loss: 1.8670252561569214\n"
     ]
    },
    {
     "name": "stderr",
     "output_type": "stream",
     "text": [
      "  6%|▌         | 50/815 [03:11<48:38,  3.81s/it]"
     ]
    },
    {
     "name": "stdout",
     "output_type": "stream",
     "text": [
      "Batch loss: 2.413853406906128\n"
     ]
    },
    {
     "name": "stderr",
     "output_type": "stream",
     "text": [
      " 12%|█▏        | 100/815 [06:28<47:51,  4.02s/it]"
     ]
    },
    {
     "name": "stdout",
     "output_type": "stream",
     "text": [
      "Batch loss: 2.536505937576294\n"
     ]
    },
    {
     "name": "stderr",
     "output_type": "stream",
     "text": [
      " 18%|█▊        | 150/815 [09:42<42:19,  3.82s/it]"
     ]
    },
    {
     "name": "stdout",
     "output_type": "stream",
     "text": [
      "Batch loss: 2.397796392440796\n"
     ]
    },
    {
     "name": "stderr",
     "output_type": "stream",
     "text": [
      " 25%|██▍       | 200/815 [13:00<40:09,  3.92s/it]"
     ]
    },
    {
     "name": "stdout",
     "output_type": "stream",
     "text": [
      "Batch loss: 2.6697158813476562\n"
     ]
    },
    {
     "name": "stderr",
     "output_type": "stream",
     "text": [
      " 31%|███       | 250/815 [16:17<35:04,  3.72s/it]"
     ]
    },
    {
     "name": "stdout",
     "output_type": "stream",
     "text": [
      "Batch loss: 2.896747350692749\n"
     ]
    },
    {
     "name": "stderr",
     "output_type": "stream",
     "text": [
      " 37%|███▋      | 300/815 [19:29<33:56,  3.95s/it]"
     ]
    },
    {
     "name": "stdout",
     "output_type": "stream",
     "text": [
      "Batch loss: 2.2392423152923584\n"
     ]
    },
    {
     "name": "stderr",
     "output_type": "stream",
     "text": [
      " 43%|████▎     | 350/815 [22:50<30:17,  3.91s/it]"
     ]
    },
    {
     "name": "stdout",
     "output_type": "stream",
     "text": [
      "Batch loss: 2.587428092956543\n"
     ]
    },
    {
     "name": "stderr",
     "output_type": "stream",
     "text": [
      " 49%|████▉     | 400/815 [26:04<23:56,  3.46s/it]"
     ]
    },
    {
     "name": "stdout",
     "output_type": "stream",
     "text": [
      "Batch loss: 1.9952303171157837\n"
     ]
    },
    {
     "name": "stderr",
     "output_type": "stream",
     "text": [
      " 55%|█████▌    | 450/815 [29:39<28:00,  4.60s/it]"
     ]
    },
    {
     "name": "stdout",
     "output_type": "stream",
     "text": [
      "Batch loss: 2.0487680435180664\n"
     ]
    },
    {
     "name": "stderr",
     "output_type": "stream",
     "text": [
      " 61%|██████▏   | 500/815 [33:05<25:33,  4.87s/it]"
     ]
    },
    {
     "name": "stdout",
     "output_type": "stream",
     "text": [
      "Batch loss: 2.555377721786499\n"
     ]
    },
    {
     "name": "stderr",
     "output_type": "stream",
     "text": [
      " 67%|██████▋   | 550/815 [36:27<16:52,  3.82s/it]"
     ]
    },
    {
     "name": "stdout",
     "output_type": "stream",
     "text": [
      "Batch loss: 3.2316091060638428\n"
     ]
    },
    {
     "name": "stderr",
     "output_type": "stream",
     "text": [
      " 74%|███████▎  | 600/815 [39:46<14:03,  3.92s/it]"
     ]
    },
    {
     "name": "stdout",
     "output_type": "stream",
     "text": [
      "Batch loss: 2.193516969680786\n"
     ]
    },
    {
     "name": "stderr",
     "output_type": "stream",
     "text": [
      " 80%|███████▉  | 650/815 [43:23<12:37,  4.59s/it]"
     ]
    },
    {
     "name": "stdout",
     "output_type": "stream",
     "text": [
      "Batch loss: 2.4419987201690674\n"
     ]
    },
    {
     "name": "stderr",
     "output_type": "stream",
     "text": [
      " 86%|████████▌ | 700/815 [47:03<08:52,  4.63s/it]"
     ]
    },
    {
     "name": "stdout",
     "output_type": "stream",
     "text": [
      "Batch loss: 2.263507843017578\n"
     ]
    },
    {
     "name": "stderr",
     "output_type": "stream",
     "text": [
      " 92%|█████████▏| 750/815 [50:29<04:39,  4.30s/it]"
     ]
    },
    {
     "name": "stdout",
     "output_type": "stream",
     "text": [
      "Batch loss: 3.022754669189453\n"
     ]
    },
    {
     "name": "stderr",
     "output_type": "stream",
     "text": [
      " 98%|█████████▊| 800/815 [54:08<01:10,  4.69s/it]"
     ]
    },
    {
     "name": "stdout",
     "output_type": "stream",
     "text": [
      "Batch loss: 2.282520055770874\n"
     ]
    },
    {
     "name": "stderr",
     "output_type": "stream",
     "text": [
      "100%|██████████| 815/815 [55:16<00:00,  4.07s/it]\n",
      "  0%|          | 0/246 [00:00<?, ?it/s]"
     ]
    },
    {
     "name": "stdout",
     "output_type": "stream",
     "text": [
      "Train Loss:  2.4105135265303534\n"
     ]
    },
    {
     "name": "stderr",
     "output_type": "stream",
     "text": [
      "100%|██████████| 246/246 [00:47<00:00,  5.13it/s]\n",
      "  0%|          | 0/815 [00:00<?, ?it/s]"
     ]
    },
    {
     "name": "stdout",
     "output_type": "stream",
     "text": [
      "Valid Loss:  5.673222916882213\n",
      "Epoch:  7\n",
      "Batch loss: 2.1299219131469727\n"
     ]
    },
    {
     "name": "stderr",
     "output_type": "stream",
     "text": [
      "  6%|▌         | 50/815 [03:32<55:56,  4.39s/it]  "
     ]
    },
    {
     "name": "stdout",
     "output_type": "stream",
     "text": [
      "Batch loss: 4.2874956130981445\n"
     ]
    },
    {
     "name": "stderr",
     "output_type": "stream",
     "text": [
      " 12%|█▏        | 100/815 [06:54<51:34,  4.33s/it]"
     ]
    },
    {
     "name": "stdout",
     "output_type": "stream",
     "text": [
      "Batch loss: 2.1150753498077393\n"
     ]
    },
    {
     "name": "stderr",
     "output_type": "stream",
     "text": [
      " 18%|█▊        | 150/815 [10:17<42:37,  3.85s/it]"
     ]
    },
    {
     "name": "stdout",
     "output_type": "stream",
     "text": [
      "Batch loss: 2.00691819190979\n"
     ]
    },
    {
     "name": "stderr",
     "output_type": "stream",
     "text": [
      " 25%|██▍       | 200/815 [13:37<50:56,  4.97s/it]"
     ]
    },
    {
     "name": "stdout",
     "output_type": "stream",
     "text": [
      "Batch loss: 2.400045394897461\n"
     ]
    },
    {
     "name": "stderr",
     "output_type": "stream",
     "text": [
      " 31%|███       | 250/815 [16:55<36:18,  3.86s/it]"
     ]
    },
    {
     "name": "stdout",
     "output_type": "stream",
     "text": [
      "Batch loss: 2.698362112045288\n"
     ]
    },
    {
     "name": "stderr",
     "output_type": "stream",
     "text": [
      " 37%|███▋      | 300/815 [20:18<39:14,  4.57s/it]"
     ]
    },
    {
     "name": "stdout",
     "output_type": "stream",
     "text": [
      "Batch loss: 3.3843696117401123\n"
     ]
    },
    {
     "name": "stderr",
     "output_type": "stream",
     "text": [
      " 43%|████▎     | 350/815 [23:45<30:28,  3.93s/it]"
     ]
    },
    {
     "name": "stdout",
     "output_type": "stream",
     "text": [
      "Batch loss: 2.9177303314208984\n"
     ]
    },
    {
     "name": "stderr",
     "output_type": "stream",
     "text": [
      " 49%|████▉     | 400/815 [27:06<29:44,  4.30s/it]"
     ]
    },
    {
     "name": "stdout",
     "output_type": "stream",
     "text": [
      "Batch loss: 3.4649641513824463\n"
     ]
    },
    {
     "name": "stderr",
     "output_type": "stream",
     "text": [
      " 55%|█████▌    | 450/815 [30:49<29:04,  4.78s/it]"
     ]
    },
    {
     "name": "stdout",
     "output_type": "stream",
     "text": [
      "Batch loss: 2.2644479274749756\n"
     ]
    },
    {
     "name": "stderr",
     "output_type": "stream",
     "text": [
      " 61%|██████▏   | 500/815 [34:21<22:08,  4.22s/it]"
     ]
    },
    {
     "name": "stdout",
     "output_type": "stream",
     "text": [
      "Batch loss: 2.462034225463867\n"
     ]
    },
    {
     "name": "stderr",
     "output_type": "stream",
     "text": [
      " 67%|██████▋   | 550/815 [37:56<20:42,  4.69s/it]"
     ]
    },
    {
     "name": "stdout",
     "output_type": "stream",
     "text": [
      "Batch loss: 1.9889819622039795\n"
     ]
    },
    {
     "name": "stderr",
     "output_type": "stream",
     "text": [
      " 74%|███████▎  | 600/815 [41:19<14:18,  3.99s/it]"
     ]
    },
    {
     "name": "stdout",
     "output_type": "stream",
     "text": [
      "Batch loss: 2.3550732135772705\n"
     ]
    },
    {
     "name": "stderr",
     "output_type": "stream",
     "text": [
      " 80%|███████▉  | 650/815 [44:38<11:26,  4.16s/it]"
     ]
    },
    {
     "name": "stdout",
     "output_type": "stream",
     "text": [
      "Batch loss: 2.5111501216888428\n"
     ]
    },
    {
     "name": "stderr",
     "output_type": "stream",
     "text": [
      " 86%|████████▌ | 700/815 [48:01<07:45,  4.05s/it]"
     ]
    },
    {
     "name": "stdout",
     "output_type": "stream",
     "text": [
      "Batch loss: 2.400027275085449\n"
     ]
    },
    {
     "name": "stderr",
     "output_type": "stream",
     "text": [
      " 92%|█████████▏| 750/815 [51:18<04:34,  4.23s/it]"
     ]
    },
    {
     "name": "stdout",
     "output_type": "stream",
     "text": [
      "Batch loss: 3.5578994750976562\n"
     ]
    },
    {
     "name": "stderr",
     "output_type": "stream",
     "text": [
      " 98%|█████████▊| 800/815 [54:48<01:00,  4.04s/it]"
     ]
    },
    {
     "name": "stdout",
     "output_type": "stream",
     "text": [
      "Batch loss: 1.7631117105484009\n"
     ]
    },
    {
     "name": "stderr",
     "output_type": "stream",
     "text": [
      "100%|██████████| 815/815 [55:47<00:00,  4.11s/it]\n",
      "  0%|          | 1/246 [00:00<00:34,  7.00it/s]"
     ]
    },
    {
     "name": "stdout",
     "output_type": "stream",
     "text": [
      "Train Loss:  2.452308704077832\n"
     ]
    },
    {
     "name": "stderr",
     "output_type": "stream",
     "text": [
      "100%|██████████| 246/246 [00:43<00:00,  5.65it/s]\n",
      "  0%|          | 0/815 [00:00<?, ?it/s]"
     ]
    },
    {
     "name": "stdout",
     "output_type": "stream",
     "text": [
      "Valid Loss:  5.693195154027241\n",
      "Epoch:  8\n",
      "Batch loss: 2.128972291946411\n"
     ]
    },
    {
     "name": "stderr",
     "output_type": "stream",
     "text": [
      "  6%|▌         | 50/815 [03:26<49:21,  3.87s/it]  "
     ]
    },
    {
     "name": "stdout",
     "output_type": "stream",
     "text": [
      "Batch loss: 1.853293538093567\n"
     ]
    },
    {
     "name": "stderr",
     "output_type": "stream",
     "text": [
      " 12%|█▏        | 100/815 [07:13<50:17,  4.22s/it] "
     ]
    },
    {
     "name": "stdout",
     "output_type": "stream",
     "text": [
      "Batch loss: 2.155749559402466\n"
     ]
    },
    {
     "name": "stderr",
     "output_type": "stream",
     "text": [
      " 18%|█▊        | 150/815 [10:46<49:40,  4.48s/it]"
     ]
    },
    {
     "name": "stdout",
     "output_type": "stream",
     "text": [
      "Batch loss: 3.2683980464935303\n"
     ]
    },
    {
     "name": "stderr",
     "output_type": "stream",
     "text": [
      " 25%|██▍       | 200/815 [14:20<46:46,  4.56s/it]"
     ]
    },
    {
     "name": "stdout",
     "output_type": "stream",
     "text": [
      "Batch loss: 3.538771629333496\n"
     ]
    },
    {
     "name": "stderr",
     "output_type": "stream",
     "text": [
      " 31%|███       | 250/815 [17:59<44:43,  4.75s/it]"
     ]
    },
    {
     "name": "stdout",
     "output_type": "stream",
     "text": [
      "Batch loss: 2.977524757385254\n"
     ]
    },
    {
     "name": "stderr",
     "output_type": "stream",
     "text": [
      " 37%|███▋      | 300/815 [21:33<35:01,  4.08s/it]"
     ]
    },
    {
     "name": "stdout",
     "output_type": "stream",
     "text": [
      "Batch loss: 2.197227716445923\n"
     ]
    },
    {
     "name": "stderr",
     "output_type": "stream",
     "text": [
      " 43%|████▎     | 350/815 [24:50<30:10,  3.89s/it]"
     ]
    },
    {
     "name": "stdout",
     "output_type": "stream",
     "text": [
      "Batch loss: 1.728014349937439\n"
     ]
    },
    {
     "name": "stderr",
     "output_type": "stream",
     "text": [
      " 49%|████▉     | 400/815 [28:15<32:41,  4.73s/it]"
     ]
    },
    {
     "name": "stdout",
     "output_type": "stream",
     "text": [
      "Batch loss: 2.6556527614593506\n"
     ]
    },
    {
     "name": "stderr",
     "output_type": "stream",
     "text": [
      " 55%|█████▌    | 450/815 [31:39<25:27,  4.18s/it]"
     ]
    },
    {
     "name": "stdout",
     "output_type": "stream",
     "text": [
      "Batch loss: 1.999891757965088\n"
     ]
    },
    {
     "name": "stderr",
     "output_type": "stream",
     "text": [
      " 61%|██████▏   | 500/815 [35:07<22:41,  4.32s/it]"
     ]
    },
    {
     "name": "stdout",
     "output_type": "stream",
     "text": [
      "Batch loss: 2.3579108715057373\n"
     ]
    },
    {
     "name": "stderr",
     "output_type": "stream",
     "text": [
      " 67%|██████▋   | 550/815 [38:14<16:39,  3.77s/it]"
     ]
    },
    {
     "name": "stdout",
     "output_type": "stream",
     "text": [
      "Batch loss: 2.555555582046509\n"
     ]
    },
    {
     "name": "stderr",
     "output_type": "stream",
     "text": [
      " 74%|███████▎  | 600/815 [41:31<14:34,  4.07s/it]"
     ]
    },
    {
     "name": "stdout",
     "output_type": "stream",
     "text": [
      "Batch loss: 1.9512258768081665\n"
     ]
    },
    {
     "name": "stderr",
     "output_type": "stream",
     "text": [
      " 80%|███████▉  | 650/815 [44:50<10:33,  3.84s/it]"
     ]
    },
    {
     "name": "stdout",
     "output_type": "stream",
     "text": [
      "Batch loss: 2.8996174335479736\n"
     ]
    },
    {
     "name": "stderr",
     "output_type": "stream",
     "text": [
      " 86%|████████▌ | 700/815 [48:00<07:43,  4.03s/it]"
     ]
    },
    {
     "name": "stdout",
     "output_type": "stream",
     "text": [
      "Batch loss: 2.277621269226074\n"
     ]
    },
    {
     "name": "stderr",
     "output_type": "stream",
     "text": [
      " 92%|█████████▏| 750/815 [51:10<03:56,  3.64s/it]"
     ]
    },
    {
     "name": "stdout",
     "output_type": "stream",
     "text": [
      "Batch loss: 2.479888439178467\n"
     ]
    },
    {
     "name": "stderr",
     "output_type": "stream",
     "text": [
      " 98%|█████████▊| 800/815 [54:33<00:59,  4.00s/it]"
     ]
    },
    {
     "name": "stdout",
     "output_type": "stream",
     "text": [
      "Batch loss: 1.886354684829712\n"
     ]
    },
    {
     "name": "stderr",
     "output_type": "stream",
     "text": [
      "100%|██████████| 815/815 [55:32<00:00,  4.09s/it]\n",
      "  0%|          | 1/246 [00:00<00:34,  7.12it/s]"
     ]
    },
    {
     "name": "stdout",
     "output_type": "stream",
     "text": [
      "Train Loss:  2.4135723013088017\n"
     ]
    },
    {
     "name": "stderr",
     "output_type": "stream",
     "text": [
      "100%|██████████| 246/246 [00:38<00:00,  6.32it/s]\n",
      "  0%|          | 0/815 [00:00<?, ?it/s]"
     ]
    },
    {
     "name": "stdout",
     "output_type": "stream",
     "text": [
      "Valid Loss:  5.675348449528702\n",
      "Epoch:  9\n",
      "Batch loss: 2.027581214904785\n"
     ]
    },
    {
     "name": "stderr",
     "output_type": "stream",
     "text": [
      "  6%|▌         | 50/815 [03:16<51:33,  4.04s/it] "
     ]
    },
    {
     "name": "stdout",
     "output_type": "stream",
     "text": [
      "Batch loss: 2.8707263469696045\n"
     ]
    },
    {
     "name": "stderr",
     "output_type": "stream",
     "text": [
      " 12%|█▏        | 100/815 [06:33<51:14,  4.30s/it]"
     ]
    },
    {
     "name": "stdout",
     "output_type": "stream",
     "text": [
      "Batch loss: 2.524771213531494\n"
     ]
    },
    {
     "name": "stderr",
     "output_type": "stream",
     "text": [
      " 18%|█▊        | 150/815 [09:44<41:48,  3.77s/it]"
     ]
    },
    {
     "name": "stdout",
     "output_type": "stream",
     "text": [
      "Batch loss: 2.2601823806762695\n"
     ]
    },
    {
     "name": "stderr",
     "output_type": "stream",
     "text": [
      " 25%|██▍       | 200/815 [12:58<37:36,  3.67s/it]"
     ]
    },
    {
     "name": "stdout",
     "output_type": "stream",
     "text": [
      "Batch loss: 2.4413468837738037\n"
     ]
    },
    {
     "name": "stderr",
     "output_type": "stream",
     "text": [
      " 31%|███       | 250/815 [16:07<33:22,  3.54s/it]"
     ]
    },
    {
     "name": "stdout",
     "output_type": "stream",
     "text": [
      "Batch loss: 2.083097457885742\n"
     ]
    },
    {
     "name": "stderr",
     "output_type": "stream",
     "text": [
      " 37%|███▋      | 300/815 [19:19<32:37,  3.80s/it]"
     ]
    },
    {
     "name": "stdout",
     "output_type": "stream",
     "text": [
      "Batch loss: 2.5412755012512207\n"
     ]
    },
    {
     "name": "stderr",
     "output_type": "stream",
     "text": [
      " 43%|████▎     | 350/815 [22:36<27:49,  3.59s/it]"
     ]
    },
    {
     "name": "stdout",
     "output_type": "stream",
     "text": [
      "Batch loss: 2.044264316558838\n"
     ]
    },
    {
     "name": "stderr",
     "output_type": "stream",
     "text": [
      " 49%|████▉     | 400/815 [25:44<24:51,  3.59s/it]"
     ]
    },
    {
     "name": "stdout",
     "output_type": "stream",
     "text": [
      "Batch loss: 3.3726675510406494\n"
     ]
    },
    {
     "name": "stderr",
     "output_type": "stream",
     "text": [
      " 55%|█████▌    | 450/815 [28:55<25:33,  4.20s/it]"
     ]
    },
    {
     "name": "stdout",
     "output_type": "stream",
     "text": [
      "Batch loss: 2.3950836658477783\n"
     ]
    },
    {
     "name": "stderr",
     "output_type": "stream",
     "text": [
      " 61%|██████▏   | 500/815 [32:06<20:46,  3.96s/it]"
     ]
    },
    {
     "name": "stdout",
     "output_type": "stream",
     "text": [
      "Batch loss: 1.9390770196914673\n"
     ]
    },
    {
     "name": "stderr",
     "output_type": "stream",
     "text": [
      " 67%|██████▋   | 550/815 [35:20<15:52,  3.60s/it]"
     ]
    },
    {
     "name": "stdout",
     "output_type": "stream",
     "text": [
      "Batch loss: 2.707257032394409\n"
     ]
    },
    {
     "name": "stderr",
     "output_type": "stream",
     "text": [
      " 74%|███████▎  | 600/815 [38:39<13:40,  3.82s/it]"
     ]
    },
    {
     "name": "stdout",
     "output_type": "stream",
     "text": [
      "Batch loss: 2.934483051300049\n"
     ]
    },
    {
     "name": "stderr",
     "output_type": "stream",
     "text": [
      " 80%|███████▉  | 650/815 [41:56<10:06,  3.68s/it]"
     ]
    },
    {
     "name": "stdout",
     "output_type": "stream",
     "text": [
      "Batch loss: 2.4642691612243652\n"
     ]
    },
    {
     "name": "stderr",
     "output_type": "stream",
     "text": [
      " 86%|████████▌ | 700/815 [45:09<06:52,  3.59s/it]"
     ]
    },
    {
     "name": "stdout",
     "output_type": "stream",
     "text": [
      "Batch loss: 3.2341177463531494\n"
     ]
    },
    {
     "name": "stderr",
     "output_type": "stream",
     "text": [
      " 92%|█████████▏| 750/815 [48:18<04:07,  3.81s/it]"
     ]
    },
    {
     "name": "stdout",
     "output_type": "stream",
     "text": [
      "Batch loss: 2.6301233768463135\n"
     ]
    },
    {
     "name": "stderr",
     "output_type": "stream",
     "text": [
      " 98%|█████████▊| 800/815 [51:34<01:01,  4.10s/it]"
     ]
    },
    {
     "name": "stdout",
     "output_type": "stream",
     "text": [
      "Batch loss: 2.6967403888702393\n"
     ]
    },
    {
     "name": "stderr",
     "output_type": "stream",
     "text": [
      "100%|██████████| 815/815 [52:27<00:00,  3.86s/it]\n",
      "  0%|          | 1/246 [00:00<00:35,  6.92it/s]"
     ]
    },
    {
     "name": "stdout",
     "output_type": "stream",
     "text": [
      "Train Loss:  2.3787213072455002\n"
     ]
    },
    {
     "name": "stderr",
     "output_type": "stream",
     "text": [
      "100%|██████████| 246/246 [00:38<00:00,  6.31it/s]"
     ]
    },
    {
     "name": "stdout",
     "output_type": "stream",
     "text": [
      "Valid Loss:  5.680067991822716\n"
     ]
    },
    {
     "name": "stderr",
     "output_type": "stream",
     "text": [
      "\n"
     ]
    }
   ],
   "source": [
    "# train 3 more epochs\n",
    "EPOCHS = 10\n",
    "\n",
    "for epoch in range(EPOCHS):\n",
    "    print('Epoch: ', epoch)\n",
    "    \n",
    "    train_loss = train_one_epoch(model, train_dl, optimizer, loss_func)\n",
    "    print('Train Loss: ', train_loss)\n",
    "    \n",
    "    valid_loss = evaluate(model, valid_dl, loss_func)\n",
    "    print('Valid Loss: ', valid_loss)\n",
    "    \n",
    "    if valid_loss < best:\n",
    "        best = valid_loss\n",
    "        torch.save(model.state_dict(),  '../model/seq2seq_v2.pt')\n",
    "    scheduler.step(valid_loss)"
   ]
  },
  {
   "cell_type": "code",
   "execution_count": 1058,
   "metadata": {},
   "outputs": [
    {
     "data": {
      "text/plain": [
       "tensor([[[ 8.3415e-07,  1.8757e-08, -1.0000e+00, -7.6159e-01,  2.7992e-12,\n",
       "          -3.5686e-05,  8.0224e-15, -1.5713e-10, -1.4366e-13,  3.3050e-13,\n",
       "           2.0661e-21,  1.0000e+00, -1.2542e-10, -4.9077e-11, -9.7051e-05,\n",
       "           1.3208e-20,  7.0467e-07,  1.1476e-12, -1.8057e-11,  8.1142e-15,\n",
       "          -3.8975e-02, -1.4302e-16, -1.0386e-09, -2.6230e-12,  7.6159e-01,\n",
       "          -2.6330e-23, -1.2532e-02, -5.2528e-04, -1.2949e-07,  2.4892e-08,\n",
       "           6.0026e-07, -1.1196e-10,  1.5296e-10, -5.0617e-09,  2.4082e-09,\n",
       "          -3.3455e-08, -1.0477e-16,  4.9381e-16, -9.8111e-22,  1.8580e-14,\n",
       "          -4.9357e-11,  1.0770e-11,  4.9214e-10,  9.3780e-16, -6.4904e-04,\n",
       "           1.0489e-06,  5.5468e-14,  1.2570e-05, -5.2065e-02, -1.0022e-04,\n",
       "          -1.2523e-10, -3.3691e-08,  1.9675e-05, -1.4091e-15,  1.4231e-01,\n",
       "           1.4667e-12,  5.1739e-10, -5.8571e-08, -3.2723e-04,  1.1033e-10,\n",
       "          -3.1379e-28, -2.8651e-10, -1.4404e-19, -9.0455e-08, -7.8566e-11,\n",
       "           1.3765e-10,  4.9446e-08,  2.5476e-09, -3.1349e-08, -2.8717e-14,\n",
       "           4.1009e-12,  9.0636e-10,  1.3285e-11,  4.4793e-11, -5.4704e-17,\n",
       "          -1.9342e-10, -7.6961e-11, -5.8884e-17,  9.2462e-03, -1.0238e-11,\n",
       "          -2.8134e-13,  7.6159e-01,  2.5199e-09, -1.2039e-12, -1.7211e-16,\n",
       "          -1.4748e-07, -8.5063e-12,  4.6814e-16,  1.0759e-16, -1.0000e+00,\n",
       "          -2.6427e-26, -1.0770e-02,  3.1461e-09,  2.5775e-08,  3.7092e-26,\n",
       "           1.6739e-11,  2.0317e-25, -4.5702e-12,  8.0046e-14, -6.0396e-11,\n",
       "           4.7022e-25, -4.7724e-07, -7.5799e-11, -8.4636e-10,  2.0097e-13,\n",
       "           1.0125e-06,  1.7511e-10,  9.7946e-11,  1.1944e-14, -1.0000e+00,\n",
       "           1.0000e+00, -9.7485e-08,  9.7563e-09, -1.0528e-11, -1.0930e-03,\n",
       "           1.8838e-08,  2.3630e-07,  2.1257e-13, -2.5075e-15, -5.2711e-07,\n",
       "           1.3443e-29, -1.3560e-03,  1.3562e-06, -9.9305e-19,  1.0000e+00,\n",
       "           2.6614e-07,  4.3066e-09,  2.4873e-14, -1.4642e-09,  2.3889e-22,\n",
       "           4.3710e-14, -4.6720e-02,  5.6218e-09,  1.5116e-11,  5.6153e-09,\n",
       "           1.0000e+00, -4.6661e-09,  9.7760e-22,  8.9010e-14, -1.6127e-11,\n",
       "          -2.2074e-12,  4.4158e-27, -7.6159e-01, -3.8015e-02,  6.4763e-20,\n",
       "          -6.4404e-08,  9.1023e-09, -1.8285e-13,  9.1019e-12, -1.2197e-08,\n",
       "           2.7767e-10,  6.7147e-10, -9.1421e-09, -5.5355e-08,  3.4110e-11,\n",
       "           2.4689e-12, -2.0813e-07,  2.4052e-14,  2.0371e-09, -8.0117e-24,\n",
       "           1.5338e-21, -4.6145e-03,  1.0000e+00,  6.5855e-11,  6.0851e-11,\n",
       "          -1.2440e-07,  6.6149e-21, -5.2121e-10,  1.0000e+00,  1.6491e-08,\n",
       "          -5.8150e-11, -4.8320e-11,  1.2325e-08, -4.2827e-09,  1.1008e-13,\n",
       "          -1.0000e+00,  5.8404e-11, -3.8083e-10, -1.0000e+00,  6.7080e-11,\n",
       "           2.0297e-10,  1.0270e-01, -3.3564e-13,  1.8523e-15, -1.0000e+00,\n",
       "          -9.4786e-11, -7.0984e-06, -4.0065e-10,  5.5447e-08,  1.0000e+00,\n",
       "           3.0686e-11,  7.9642e-07,  7.0685e-12, -9.5438e-14, -8.2457e-05,\n",
       "          -7.6198e-07, -1.1899e-10, -3.6804e-17,  1.3207e-14, -7.7605e-14,\n",
       "          -9.9476e-01,  5.0469e-06,  4.0656e-16,  3.4020e-15,  1.9151e-06,\n",
       "          -4.0434e-26,  3.2205e-08, -4.3674e-09, -7.6144e-01, -7.3121e-14,\n",
       "          -1.3824e-07,  6.1466e-08, -7.3538e-26,  6.6500e-15, -3.3248e-07,\n",
       "           1.0000e+00,  3.6650e-13, -2.0898e-08,  4.9180e-12,  1.9031e-07,\n",
       "           5.0448e-12, -2.1450e-16, -7.6159e-01,  1.0000e+00,  3.7287e-17,\n",
       "           4.8356e-12,  1.0000e+00, -5.2864e-07, -4.7354e-11,  2.0782e-13,\n",
       "          -1.4318e-08, -9.3999e-11,  2.2857e-04, -1.3566e-10, -3.2166e-03,\n",
       "          -1.9981e-05,  1.4835e-03, -2.7394e-10,  9.2278e-12,  1.7502e-12,\n",
       "          -3.6867e-17, -1.1449e-10,  2.4320e-11, -6.1318e-17, -7.6149e-01,\n",
       "           5.2561e-09, -6.1599e-15, -1.0065e-01,  2.3076e-10,  3.1643e-15,\n",
       "          -5.5232e-01, -1.4257e-06, -2.2189e-13, -2.4821e-06, -5.9745e-14,\n",
       "           1.3974e-04, -5.1463e-22,  7.6159e-01, -2.4480e-03, -3.6327e-11,\n",
       "          -1.4107e-10,  4.0540e-10, -3.3417e-14, -1.3700e-10,  7.6159e-01,\n",
       "          -1.6639e-23,  5.8423e-27,  4.4754e-03, -1.0000e+00, -2.2025e-12,\n",
       "          -1.4419e-13, -7.6159e-01, -1.0093e-07, -4.1858e-17, -4.5342e-14,\n",
       "           1.7498e-10,  2.6384e-11, -4.4152e-09, -4.8146e-15,  2.5242e-06,\n",
       "          -1.9673e-06,  1.0000e+00, -3.9875e-08, -1.5969e-04,  1.5440e-09,\n",
       "          -2.7324e-10,  1.4477e-12, -1.8652e-16,  1.0548e-13, -7.5916e-11,\n",
       "           3.6071e-10,  5.2838e-22, -6.3665e-14, -3.3777e-13, -9.8407e-14,\n",
       "           7.6159e-01,  1.3633e-11,  2.8580e-10,  9.2228e-16, -1.4475e-05,\n",
       "          -1.0058e-09, -5.8477e-07, -6.5089e-09,  4.7209e-09,  2.1132e-16,\n",
       "          -5.9605e-09,  1.4449e-11,  4.6788e-09, -9.3408e-04, -4.8944e-09,\n",
       "          -3.9525e-09, -4.7983e-11, -2.3320e-27,  2.1443e-09,  1.1054e-05,\n",
       "          -1.2043e-11,  2.3734e-08,  3.0749e-12, -2.0329e-09, -4.6275e-02,\n",
       "           1.2237e-06,  1.8574e-10, -1.2889e-17,  7.3204e-15, -7.6159e-01,\n",
       "           1.0000e+00, -8.4847e-13, -7.6159e-01,  4.5644e-12, -4.2921e-11,\n",
       "           4.0110e-08, -6.0500e-07, -1.3565e-08,  2.9219e-09,  4.7153e-11,\n",
       "           1.0000e+00,  6.1012e-14, -9.0220e-01, -1.4923e-16,  6.8048e-10,\n",
       "           3.0781e-17, -1.0078e-13, -1.2629e-09,  2.7254e-12, -8.8841e-11,\n",
       "           9.5877e-17,  3.2370e-10,  1.1602e-10,  5.3071e-11,  2.5113e-10,\n",
       "          -1.0145e-09,  1.9289e-12, -2.2038e-18,  2.2842e-08,  3.9374e-09,\n",
       "          -2.9938e-08,  1.4297e-30, -1.6779e-18, -3.4992e-11,  1.2163e-09,\n",
       "           8.7093e-08,  2.6112e-12,  3.6172e-12, -1.0756e-09,  3.4260e-09,\n",
       "          -7.5577e-09, -5.0272e-10,  8.0846e-11,  4.5662e-14,  1.6713e-09,\n",
       "          -3.0490e-05,  1.3711e-13, -5.4495e-10,  3.5678e-10,  2.5634e-11,\n",
       "           4.7728e-11,  1.5807e-08,  3.8139e-10,  2.0863e-11,  1.1218e-09,\n",
       "           1.1221e-01,  6.5520e-26,  7.6177e-10,  4.2122e-11, -1.5374e-03,\n",
       "          -2.8512e-11,  3.7352e-02,  1.0000e+00, -1.0000e+00, -1.0765e-06,\n",
       "           1.0555e-15,  3.1016e-11, -1.2957e-09, -1.1898e-07,  1.0932e-10,\n",
       "          -9.6253e-09, -2.0374e-24,  8.0792e-07,  1.1558e-09,  9.9283e-07,\n",
       "          -1.1455e-13,  7.5371e-09, -2.3519e-09, -1.3080e-10,  1.6785e-06,\n",
       "          -7.4822e-13,  7.0594e-15,  1.0701e-12,  6.1955e-15,  3.2217e-06,\n",
       "          -2.2987e-06, -3.0029e-20,  1.3897e-10,  9.9999e-01, -6.0170e-16,\n",
       "           4.1747e-04,  1.4579e-12, -6.2663e-16,  4.6652e-11,  6.8469e-10,\n",
       "           1.0785e-07, -3.0025e-15,  1.0000e+00,  1.1956e-20, -1.0000e+00,\n",
       "           6.1595e-07, -9.6382e-05, -3.9603e-11,  7.6159e-01, -2.7042e-28,\n",
       "           9.4996e-13, -3.4837e-09, -1.4055e-06, -2.9560e-06, -2.3441e-08,\n",
       "           1.7434e-01,  3.1450e-07,  6.9858e-10,  2.2650e-06,  7.5632e-01,\n",
       "          -8.5240e-25,  2.4636e-10, -1.6547e-16, -4.5360e-11,  1.3631e-18,\n",
       "           1.7080e-14,  5.2297e-08,  2.6665e-11, -2.1053e-05,  6.0264e-14,\n",
       "          -5.2385e-15, -1.1067e-07, -1.5459e-12, -9.6062e-12,  1.6440e-10,\n",
       "          -1.9503e-13,  1.7698e-09,  7.6160e-01,  1.4645e-05, -1.9994e-12,\n",
       "          -5.4941e-20, -1.9083e-11, -3.0622e-08, -1.2029e-07,  1.4261e-04,\n",
       "           3.0314e-09,  4.9384e-08, -1.3734e-05,  1.0000e+00,  1.4927e-08,\n",
       "          -5.2514e-17,  2.5863e-10, -1.0000e+00,  2.6630e-09,  6.2905e-03,\n",
       "           3.6822e-15,  2.3792e-13,  9.6616e-20,  7.6159e-01, -4.2835e-10,\n",
       "           4.8274e-13, -1.8301e-15,  2.7109e-12, -4.2892e-24, -2.3211e-08,\n",
       "           3.8126e-09, -1.3649e-06,  3.7600e-12, -4.2794e-13, -3.1722e-25,\n",
       "          -5.5280e-20,  4.8895e-08,  1.4968e-09, -5.0621e-09, -7.8561e-14,\n",
       "          -3.6016e-15, -2.9086e-12, -1.0316e-03,  4.0109e-10, -2.1743e-02,\n",
       "          -1.6683e-01,  3.1676e-33, -3.1692e-19,  7.8820e-06, -9.3719e-13,\n",
       "          -1.8513e-09,  1.1684e-16, -3.9326e-09,  1.3238e-07, -1.0000e+00,\n",
       "           3.3547e-11, -4.6864e-14,  1.0101e-20, -6.4408e-20,  1.1804e-07,\n",
       "           5.1590e-07,  1.2512e-09, -2.5929e-09, -3.6057e-05,  4.7752e-15,\n",
       "          -8.1391e-07, -2.8379e-08,  5.3851e-11, -1.0000e+00, -4.3296e-08,\n",
       "          -1.3523e-11, -1.9586e-07, -4.6160e-10, -4.8485e-15, -1.5846e-08,\n",
       "          -2.9453e-24, -7.8629e-10, -5.8177e-06, -1.5854e-11,  4.1974e-07,\n",
       "           2.8464e-12,  4.6945e-08,  9.1518e-09, -1.4985e-16,  7.0716e-02,\n",
       "           6.3613e-08,  1.0000e+00, -3.9775e-10,  7.6159e-01,  1.3115e-35,\n",
       "          -1.3815e-09,  2.8125e-08,  1.4548e-02, -1.7705e-12,  1.2035e-15,\n",
       "          -1.6492e-02, -5.3461e-09,  5.6090e-16, -4.9492e-09, -2.1196e-04,\n",
       "           1.3934e-11,  3.9153e-07, -1.8111e-11, -9.8962e-05,  8.9453e-06,\n",
       "           2.9542e-14,  3.3710e-08,  9.0423e-10,  2.4779e-27, -4.8405e-21,\n",
       "           1.0000e+00, -7.2679e-07, -1.0000e+00,  1.6877e-11,  1.2025e-07,\n",
       "           1.8433e-18, -6.0712e-11, -7.4386e-11,  2.2427e-09, -4.6506e-10,\n",
       "           1.2461e-09,  2.6077e-05,  1.0074e-11,  5.0857e-11, -2.6322e-09,\n",
       "           2.5371e-15,  2.9549e-11,  1.9869e-15,  2.4526e-12, -1.0000e+00,\n",
       "          -1.5903e-11, -3.0295e-04, -4.4557e-16,  2.0546e-11,  4.8306e-22,\n",
       "           2.9260e-11, -9.3240e-21, -2.0892e-10,  3.1496e-09,  1.9104e-16,\n",
       "          -9.0668e-12, -2.1620e-10,  4.5663e-15,  1.0000e+00, -1.8464e-12,\n",
       "           1.2578e-07, -6.4666e-13,  1.5219e-10,  3.8444e-08,  1.4972e-17,\n",
       "          -1.9575e-10, -1.8429e-13,  1.2215e-14,  1.5118e-08, -6.5224e-08,\n",
       "           3.5603e-08, -2.4907e-10, -6.6299e-08, -4.0116e-09,  1.0257e-11,\n",
       "           2.7645e-08, -7.6159e-01, -3.1893e-11,  4.6584e-06, -1.0786e-11,\n",
       "          -1.0752e-10,  1.4273e-11, -1.2721e-09, -5.5312e-10,  1.1148e-02,\n",
       "          -9.7147e-15,  8.5599e-11,  4.4218e-09, -9.5257e-31, -9.8891e-09,\n",
       "          -1.0011e-05,  2.8926e-08,  6.4256e-16,  1.9018e-13, -1.9039e-22,\n",
       "           1.5072e-05,  1.0647e-08,  1.2581e-12, -1.2566e-09,  7.3255e-07,\n",
       "          -1.7681e-10, -9.9940e-10,  6.7118e-18,  6.5256e-09, -2.4323e-15,\n",
       "           1.3004e-08,  8.3823e-10, -7.9870e-10, -4.4808e-14,  2.8769e-11,\n",
       "           1.4666e-12, -4.6944e-10,  1.3147e-08,  5.2438e-20,  4.9397e-11,\n",
       "          -1.0000e+00, -3.2699e-09,  6.1717e-11, -1.6918e-09, -2.7133e-12,\n",
       "           3.1078e-10, -1.4057e-10, -1.0000e+00, -3.0822e-06,  4.9731e-08,\n",
       "           1.2374e-12,  2.1570e-08,  2.8260e-18, -3.4944e-08, -8.2411e-04,\n",
       "          -4.0212e-12, -3.5951e-02,  9.6121e-18, -2.7090e-06,  1.0838e-08,\n",
       "           8.4866e-09, -3.2158e-03,  1.3993e-03,  7.0009e-21, -7.1436e-12,\n",
       "           6.2904e-09, -7.6159e-01,  1.5544e-12, -8.1295e-09,  2.5074e-12,\n",
       "          -2.9300e-04, -2.6335e-29,  1.5366e-12, -3.7797e-10,  2.3093e-11,\n",
       "          -1.2398e-12,  8.9382e-11,  5.4210e-12,  3.8848e-09, -6.7352e-13,\n",
       "          -7.7398e-11,  2.8760e-35,  2.0964e-21,  1.5266e-14, -8.7174e-08,\n",
       "          -4.7285e-10,  2.6316e-14,  1.0349e-06, -4.9397e-04, -2.0679e-02,\n",
       "          -3.7752e-17, -4.0779e-08, -6.3816e-13,  2.4583e-09,  3.1125e-18,\n",
       "           1.0707e-07,  2.2753e-10, -8.8847e-07,  5.4379e-13, -5.1292e-03,\n",
       "          -4.0126e-15,  1.7044e-09,  8.9347e-09, -1.3989e-09,  2.7211e-10,\n",
       "           4.1499e-03, -8.2397e-01, -3.0989e-02, -4.2240e-11, -6.9282e-07,\n",
       "           1.9060e-14,  2.1969e-12,  3.5942e-09,  1.0000e+00, -1.8007e-08,\n",
       "           1.3574e-14,  1.7919e-10, -1.2696e-16,  5.6128e-11,  1.7713e-07,\n",
       "           2.0617e-14,  1.8149e-02, -1.6247e-07, -2.7812e-10, -1.0601e-09,\n",
       "           1.3909e-09,  2.1682e-08,  2.7390e-07, -1.1030e-14,  5.7847e-08,\n",
       "           2.4637e-03,  7.0279e-10, -4.0922e-12,  1.5467e-11,  3.6512e-07,\n",
       "           6.0392e-09, -1.3410e-10, -1.8193e-10, -1.8911e-06,  1.3519e-10,\n",
       "           1.0196e-21,  1.2184e-11,  6.2724e-12,  1.2503e-14,  1.8700e-07,\n",
       "          -6.2604e-12,  1.0000e+00,  4.4132e-09, -6.5667e-10, -1.8251e-09,\n",
       "           3.2559e-17,  1.3010e-09,  6.8135e-20,  2.6176e-10,  7.6159e-01,\n",
       "           6.7349e-25,  7.6159e-01, -5.1687e-10, -2.1046e-11,  2.1768e-18,\n",
       "          -7.4948e-02,  1.6387e-09, -2.5176e-09, -3.3847e-13, -4.1844e-13,\n",
       "          -9.3688e-10, -3.6494e-10,  1.0000e+00, -6.6247e-07, -2.4310e-07,\n",
       "           5.6255e-25,  4.0146e-13, -2.8625e-19,  1.5358e-07, -1.1666e-07,\n",
       "           1.2818e-08,  3.4116e-09, -9.8157e-12, -9.8172e-10, -6.0956e-19,\n",
       "          -3.7073e-24,  6.1957e-12,  1.0106e-16,  2.8816e-11,  2.2423e-24]]])"
      ]
     },
     "execution_count": 1058,
     "metadata": {},
     "output_type": "execute_result"
    }
   ],
   "source": [
    "model.eval()\n",
    "with torch.no_grad():\n",
    "    context = model.encoder(test_x.unsqueeze(0))\n",
    "context"
   ]
  },
  {
   "cell_type": "markdown",
   "metadata": {},
   "source": [
    "# Model Diagnosis"
   ]
  },
  {
   "cell_type": "code",
   "execution_count": 1079,
   "metadata": {},
   "outputs": [],
   "source": [
    "def gen_seq(model, x, start_token, seq_length):\n",
    "    with torch.no_grad():\n",
    "        word_input = torch.tensor(word2idx[start_token]).unsqueeze(0)\n",
    "        context = model.encoder(x.unsqueeze(0))\n",
    "        hidden = context\n",
    "        outputs = [start_token]\n",
    "        ## generate a sequence!\n",
    "        for i in range(seq_length):\n",
    "            output, hidden = model.decoder(word_input, context, hidden)\n",
    "            word = output.argmax(1)\n",
    "            outputs.append(idx2word[word.item()])\n",
    "            word_input = word\n",
    "        return outputs"
   ]
  },
  {
   "cell_type": "code",
   "execution_count": 1069,
   "metadata": {},
   "outputs": [],
   "source": [
    "iterator = iter(train_ds)"
   ]
  },
  {
   "cell_type": "code",
   "execution_count": 1076,
   "metadata": {},
   "outputs": [
    {
     "data": {
      "text/plain": [
       "torch.Size([50, 2048])"
      ]
     },
     "execution_count": 1076,
     "metadata": {},
     "output_type": "execute_result"
    }
   ],
   "source": [
    "test_x, test_y = next(iterator)\n",
    "test_x.shape"
   ]
  },
  {
   "cell_type": "code",
   "execution_count": 1081,
   "metadata": {},
   "outputs": [
    {
     "data": {
      "text/plain": [
       "tensor([   1,    4, 1082,   25, 5597,  104,   25,  219,    5, 2308,  305,   12,\n",
       "           4,  389,    2])"
      ]
     },
     "execution_count": 1081,
     "metadata": {},
     "output_type": "execute_result"
    }
   ],
   "source": []
  },
  {
   "cell_type": "code",
   "execution_count": 1082,
   "metadata": {},
   "outputs": [
    {
     "data": {
      "text/plain": [
       "['<START>',\n",
       " 'a',\n",
       " 'teenage',\n",
       " 'girl',\n",
       " 'teases',\n",
       " 'another',\n",
       " 'girl',\n",
       " 'who',\n",
       " 'is',\n",
       " 'blindfolded',\n",
       " 'next',\n",
       " 'to',\n",
       " 'a',\n",
       " 'river',\n",
       " '<END>']"
      ]
     },
     "execution_count": 1082,
     "metadata": {},
     "output_type": "execute_result"
    }
   ],
   "source": [
    "[idx2word[word.item()] for word in test_y]"
   ]
  },
  {
   "cell_type": "code",
   "execution_count": 1078,
   "metadata": {},
   "outputs": [
    {
     "name": "stdout",
     "output_type": "stream",
     "text": [
      "tensor([[ 1.4117e-07,  8.7523e-09, -1.0000e+00, -7.6159e-01,  3.1522e-14,\n",
      "         -3.8256e-06,  1.7946e-15, -1.5878e-11, -6.9432e-16,  2.3584e-15,\n",
      "          1.6964e-22,  1.0000e+00, -2.9911e-12, -1.3260e-12, -6.8926e-03,\n",
      "          1.2900e-22,  3.9233e-08,  1.9082e-13, -6.0221e-12,  3.7145e-15,\n",
      "         -6.2369e-03, -7.8452e-15, -9.1389e-10, -1.4576e-13,  7.6159e-01,\n",
      "         -3.6218e-25, -4.9680e-03, -2.1962e-04, -1.4119e-09, -1.8743e-08,\n",
      "          6.3280e-08, -1.4303e-11,  1.7118e-11, -1.7941e-09,  1.9121e-10,\n",
      "         -2.3796e-08, -3.5009e-14,  7.3931e-16, -4.8089e-22,  2.3265e-13,\n",
      "         -8.8118e-11,  5.9196e-12,  6.9587e-11,  5.1894e-16, -4.3336e-06,\n",
      "          1.3440e-05,  2.3725e-14,  3.2155e-04, -4.9125e-01, -4.2814e-04,\n",
      "         -1.0928e-10, -4.0647e-09,  1.0124e-05, -4.2381e-17,  6.6224e-02,\n",
      "          1.7039e-13,  4.5293e-11, -2.1232e-09, -5.8124e-06,  2.0353e-11,\n",
      "         -5.4074e-28, -4.1671e-11,  9.0823e-21, -4.6344e-07, -4.0680e-09,\n",
      "          1.1559e-11,  4.7354e-08,  2.8662e-10, -3.7436e-08, -3.7561e-15,\n",
      "          6.2532e-13,  2.0632e-09,  3.9544e-10,  2.5569e-13, -6.9883e-17,\n",
      "         -3.0408e-11, -3.3246e-12, -2.9005e-17,  6.2029e-02, -1.8190e-10,\n",
      "         -3.6354e-14,  7.6149e-01,  4.2224e-10,  1.5928e-14, -6.9256e-17,\n",
      "         -5.4321e-08, -9.6946e-13,  9.4571e-16,  7.4187e-17, -1.0000e+00,\n",
      "         -1.1590e-25, -1.0380e-02,  3.0847e-10,  6.9025e-10,  4.6102e-27,\n",
      "          1.4606e-12,  1.1103e-27, -7.4015e-14,  1.4983e-15, -2.6031e-14,\n",
      "          1.9532e-27, -2.1862e-06, -5.3637e-15, -1.9830e-09,  5.0210e-14,\n",
      "          6.4224e-08,  2.2588e-10,  1.4480e-11,  5.1450e-15, -1.0000e+00,\n",
      "          1.0000e+00, -5.7192e-08,  6.2660e-10, -1.1870e-11, -1.6119e-10,\n",
      "          1.1713e-08,  8.9438e-09,  1.1683e-14, -3.0721e-17, -6.7020e-07,\n",
      "          5.0476e-28, -4.4026e-04,  1.6557e-06, -1.4472e-17,  1.0000e+00,\n",
      "          9.5120e-08,  2.8691e-11,  6.0137e-16, -1.5287e-08,  3.0611e-24,\n",
      "          1.5935e-12, -1.1986e-02,  7.2924e-10,  8.0699e-12,  1.8389e-08,\n",
      "          1.0000e+00, -2.0764e-07,  1.5540e-22,  2.7722e-14, -4.9706e-12,\n",
      "         -7.2602e-11,  6.5146e-28, -7.6159e-01, -1.0557e-01,  1.6052e-18,\n",
      "         -2.5803e-07,  1.0888e-09, -5.7935e-13,  2.1470e-10, -4.5960e-09,\n",
      "          1.8827e-09,  6.4487e-12, -9.8835e-11, -2.5798e-09,  2.0480e-12,\n",
      "          3.6949e-12, -1.5605e-07,  5.4132e-16,  1.9886e-10, -3.9069e-23,\n",
      "          2.5015e-20, -3.0370e-02,  1.0000e+00,  7.1888e-11,  3.4571e-11,\n",
      "         -5.4059e-08,  1.6359e-20, -4.5683e-09,  9.9999e-01,  1.7351e-10,\n",
      "         -1.1338e-10, -3.9823e-11,  2.6220e-09, -1.3732e-10,  8.7649e-15,\n",
      "         -1.0000e+00,  4.7112e-11,  4.6365e-09, -1.0000e+00,  2.4144e-10,\n",
      "          7.5875e-12,  1.5687e-02, -7.6119e-14,  2.4740e-16, -1.0000e+00,\n",
      "         -5.7678e-10, -7.3192e-06, -6.0900e-12,  2.9233e-08,  1.0000e+00,\n",
      "          6.9372e-11,  9.0171e-07,  2.1617e-12, -1.7255e-15, -8.6092e-06,\n",
      "         -4.0599e-05, -1.8790e-10, -9.7500e-17,  9.0255e-15, -9.6399e-14,\n",
      "         -9.9726e-01,  2.4485e-07,  2.1082e-17,  5.7377e-15,  6.6742e-07,\n",
      "         -5.7819e-26,  2.1302e-09, -2.9053e-10, -7.6146e-01, -5.2360e-15,\n",
      "         -2.0819e-08,  3.4933e-07, -6.2427e-25,  1.3368e-16, -2.5033e-07,\n",
      "          1.0000e+00,  1.5628e-14, -8.2989e-08,  7.4026e-11,  1.5359e-07,\n",
      "          9.5360e-11, -1.4193e-14, -7.6159e-01,  1.0000e+00,  9.1913e-17,\n",
      "          2.5102e-12,  1.0000e+00, -3.0106e-06, -7.6827e-13,  1.7749e-12,\n",
      "         -1.7295e-09, -2.5308e-11,  2.2078e-04, -3.3322e-12, -7.4892e-05,\n",
      "         -1.8172e-10,  7.7724e-03, -5.9775e-09,  3.1077e-16,  2.3391e-13,\n",
      "         -1.6829e-15, -1.4821e-11,  2.8355e-12, -2.3407e-17, -7.6149e-01,\n",
      "          1.8617e-09, -3.0505e-16, -3.8228e-04,  1.0844e-10,  5.4246e-14,\n",
      "         -2.6865e-05,  6.3427e-09, -3.0115e-15, -1.7472e-08, -3.5526e-15,\n",
      "          1.0696e-03, -1.9761e-22,  7.6159e-01, -8.4805e-03, -2.6167e-11,\n",
      "         -7.2835e-11,  8.1107e-10, -1.2330e-16, -4.1332e-11,  7.6159e-01,\n",
      "          2.3867e-21,  8.6312e-26,  1.3705e-02, -1.0000e+00, -5.6145e-14,\n",
      "         -1.1421e-13, -7.6159e-01, -3.0273e-08, -1.1595e-17, -5.9498e-14,\n",
      "          6.9987e-11,  1.2391e-12, -3.5926e-09, -2.5420e-17,  8.8128e-07,\n",
      "         -4.7335e-05,  1.0000e+00, -4.4238e-09, -4.1015e-05,  2.8415e-10,\n",
      "         -1.0095e-11,  3.5823e-13, -3.3867e-16,  1.0297e-15, -5.1245e-12,\n",
      "          1.8959e-09,  1.0820e-27, -1.5409e-14, -7.7473e-14, -4.6230e-14,\n",
      "          7.6159e-01,  4.7449e-10,  1.0959e-09,  3.3426e-16, -2.2245e-02,\n",
      "         -1.7266e-08, -1.1263e-06, -6.9595e-09,  7.8378e-10,  1.0415e-17,\n",
      "         -1.0256e-09,  2.8934e-13,  3.3835e-09, -3.1443e-03, -2.5775e-10,\n",
      "         -1.9229e-08, -2.1684e-10, -2.7806e-29,  2.0334e-10,  8.1621e-09,\n",
      "         -2.3713e-12,  1.3256e-08,  1.4616e-12, -5.5373e-09, -1.0774e-01,\n",
      "          2.1373e-06,  3.7278e-11, -7.7566e-18,  1.9618e-13, -7.6159e-01,\n",
      "          1.0000e+00, -2.4397e-13, -7.6159e-01,  7.4537e-14, -2.6240e-11,\n",
      "          1.5787e-08, -7.3339e-07, -1.1540e-08,  1.9391e-08,  7.7935e-10,\n",
      "          1.0000e+00,  4.2305e-13, -9.9257e-01, -3.5747e-16,  2.3759e-10,\n",
      "          1.4193e-18, -1.2610e-13, -7.4174e-09,  4.3817e-13, -1.1871e-10,\n",
      "          8.6491e-16,  4.4588e-10, -2.0193e-10,  5.8526e-13,  7.2654e-11,\n",
      "         -7.2221e-11,  2.4813e-16,  9.2645e-18,  3.3722e-08,  3.9729e-11,\n",
      "         -4.1256e-08,  1.6494e-30, -3.2448e-19, -7.3115e-13,  5.3978e-10,\n",
      "          2.6623e-09,  2.6309e-12,  1.1344e-13, -4.0422e-08,  1.9503e-09,\n",
      "         -3.5239e-13, -5.8951e-09,  7.4276e-10,  1.5624e-12,  5.2836e-11,\n",
      "         -1.4405e-05,  1.1782e-13, -7.4189e-10,  6.1547e-10,  6.2220e-11,\n",
      "          2.0195e-11,  4.9730e-08,  4.2716e-10,  3.0944e-10,  1.1339e-10,\n",
      "          2.3477e-03,  3.9415e-26,  7.5653e-11,  1.5130e-11, -5.5048e-04,\n",
      "         -4.7897e-11,  4.0087e-02,  1.0000e+00, -1.0000e+00, -1.5208e-07,\n",
      "          1.6419e-16,  2.6392e-10, -2.3713e-09, -2.3509e-08,  4.8261e-12,\n",
      "         -3.7136e-09, -5.2525e-25,  6.4306e-06,  1.1439e-10,  3.3300e-06,\n",
      "         -7.6633e-13,  8.8600e-11, -1.8566e-09, -4.2415e-10,  2.5614e-06,\n",
      "         -3.1022e-12,  1.9882e-15,  1.1271e-13,  5.6278e-15,  4.7332e-05,\n",
      "         -1.4750e-06, -2.6308e-32,  1.2399e-10,  1.0000e+00, -3.6163e-17,\n",
      "          3.6886e-03,  1.6916e-13, -3.8392e-16,  1.1310e-10,  3.2605e-08,\n",
      "          8.8740e-09, -1.8178e-14,  1.0000e+00,  3.5008e-20, -1.0000e+00,\n",
      "          3.1274e-08, -7.3540e-05, -5.1719e-12,  7.6159e-01, -3.4652e-28,\n",
      "          1.6255e-13, -6.3225e-09, -6.2576e-07, -1.3482e-05, -6.2789e-09,\n",
      "          2.8319e-02,  8.0097e-07,  2.1955e-10,  1.5472e-05,  6.0343e-01,\n",
      "         -1.9646e-27,  5.5687e-10, -1.6656e-17, -2.1939e-10,  1.6629e-19,\n",
      "          1.1384e-12,  7.1345e-08,  1.8387e-11, -6.7678e-04,  1.7721e-15,\n",
      "         -8.6402e-16, -1.1080e-07, -1.0582e-12, -3.9951e-14,  7.2695e-12,\n",
      "         -8.5448e-14,  1.7687e-10,  7.6159e-01,  3.1165e-06, -3.3038e-11,\n",
      "         -4.5536e-22, -2.8361e-10, -4.6749e-09, -8.7432e-09,  5.8803e-06,\n",
      "          4.6824e-10,  8.3651e-07, -3.1462e-05,  1.0000e+00,  3.3722e-08,\n",
      "         -2.9231e-22,  1.1097e-09, -1.0000e+00,  2.8563e-08,  1.3241e-02,\n",
      "          7.3233e-17,  3.1056e-13,  3.5401e-19,  7.6159e-01, -2.4339e-10,\n",
      "          1.2650e-14, -4.1841e-15,  1.0073e-13, -6.4758e-24, -1.1075e-09,\n",
      "          9.2587e-10, -6.0008e-07,  4.0688e-13, -1.8207e-13, -4.8923e-26,\n",
      "         -1.7420e-21,  8.7554e-09,  1.1376e-08, -4.4900e-10, -9.1370e-15,\n",
      "         -1.7988e-16, -2.6569e-12, -6.8553e-03,  1.1413e-10, -7.9636e-04,\n",
      "         -6.5949e-02,  1.5679e-32, -1.2419e-19,  1.0925e-04, -1.7770e-13,\n",
      "         -1.7137e-12,  9.4637e-18, -1.0125e-09,  1.7198e-07, -1.0000e+00,\n",
      "          3.2412e-11, -4.1830e-15,  3.8969e-23, -1.5182e-21,  1.9724e-09,\n",
      "          9.3991e-08,  1.4568e-09, -3.1820e-10, -3.3634e-08,  1.3525e-14,\n",
      "         -3.4539e-07, -2.4906e-09,  4.0240e-10, -1.0000e+00, -5.5455e-07,\n",
      "         -3.5129e-12, -3.0837e-07, -3.0624e-11, -9.3472e-16, -3.6397e-08,\n",
      "         -2.0868e-26, -2.1006e-09, -1.2685e-06, -5.2853e-11,  5.8995e-07,\n",
      "          5.9547e-11,  6.1866e-07,  2.3210e-09, -4.9252e-17,  4.9831e-02,\n",
      "          1.5727e-08,  1.0000e+00, -2.7648e-11,  7.6159e-01,  1.5059e-34,\n",
      "         -2.7834e-10,  1.4460e-10,  3.6196e-02, -4.4698e-13,  3.9453e-15,\n",
      "         -8.5393e-02, -1.6842e-07,  1.1232e-15, -1.4696e-09, -4.7414e-04,\n",
      "          1.5349e-10,  4.8244e-08, -3.4383e-12, -1.4993e-03,  7.9052e-06,\n",
      "          3.7914e-13,  9.1726e-09,  9.4922e-10,  4.6765e-27, -4.0832e-30,\n",
      "          1.0000e+00, -1.7869e-07, -1.0000e+00,  1.3999e-12,  3.1964e-08,\n",
      "          8.8748e-20, -6.3452e-12, -1.0730e-12,  1.6067e-09, -9.1809e-11,\n",
      "          6.9910e-09,  3.5725e-06,  8.0569e-11,  1.3688e-09, -1.8264e-09,\n",
      "          1.4886e-17,  3.0218e-12,  1.9658e-16,  1.9727e-12, -1.0000e+00,\n",
      "         -3.3710e-12, -7.6421e-03, -4.2873e-19,  1.6984e-11,  5.5680e-22,\n",
      "          3.4380e-11, -1.9649e-19,  3.7844e-10,  3.0502e-09,  2.8270e-17,\n",
      "         -9.4595e-12, -3.4353e-10,  1.4555e-16,  1.0000e+00, -7.8783e-13,\n",
      "          1.3530e-07, -1.3736e-13,  7.5945e-11,  3.7615e-08,  1.8348e-17,\n",
      "         -1.2461e-12, -1.0916e-13,  1.4398e-16,  8.9054e-10, -5.9840e-11,\n",
      "          6.2739e-08, -2.0034e-13, -4.9394e-08, -1.2011e-10,  5.6463e-15,\n",
      "          6.9865e-09, -7.6159e-01, -5.1026e-13,  1.0399e-06, -1.4847e-10,\n",
      "         -5.3218e-11,  7.5937e-12, -1.4409e-10, -2.4531e-09,  2.3266e-02,\n",
      "         -1.3769e-14,  5.3369e-12,  2.1179e-09, -1.8869e-32, -1.4122e-10,\n",
      "         -5.8087e-08,  3.1744e-08, -5.8721e-18,  1.9446e-12, -1.2793e-22,\n",
      "          1.4774e-05,  9.7416e-09,  9.9138e-13, -9.0729e-10,  1.9945e-07,\n",
      "         -1.0438e-09, -4.4558e-11,  6.3284e-19,  2.1622e-09, -3.3039e-17,\n",
      "          1.6191e-09,  5.3645e-08,  4.4746e-09, -8.4829e-15,  2.7593e-10,\n",
      "          6.1674e-12, -2.8141e-09,  7.9385e-10,  1.3497e-19,  2.9746e-12,\n",
      "         -1.0000e+00, -1.8682e-09,  1.6333e-11, -9.3504e-11, -9.9482e-13,\n",
      "          3.5098e-09, -3.9344e-10, -1.0000e+00, -2.9784e-05,  2.2254e-07,\n",
      "          7.4935e-13,  2.5343e-09,  3.8036e-19, -7.5648e-08, -2.6596e-03,\n",
      "         -1.0301e-12, -1.0676e-01,  1.0790e-17, -2.3080e-05,  3.0900e-09,\n",
      "          2.0995e-07, -1.6127e-02,  1.9554e-03,  1.2966e-22, -2.2634e-11,\n",
      "          1.0531e-08, -7.6159e-01,  9.2592e-13, -9.7153e-10,  8.0327e-13,\n",
      "         -3.7925e-05, -1.1155e-28,  3.0986e-13, -6.9145e-10,  2.7848e-12,\n",
      "         -2.2563e-11,  1.3677e-12,  3.6969e-13,  3.1914e-09, -4.8573e-14,\n",
      "         -1.6780e-12,  2.6248e-36,  1.0008e-19,  2.0923e-14, -2.2811e-08,\n",
      "         -3.0926e-10,  3.9965e-14,  2.6131e-09, -6.4564e-04, -4.6896e-03,\n",
      "         -2.1446e-20, -1.1155e-09, -6.7710e-15,  1.8580e-08,  5.8405e-18,\n",
      "          2.2210e-07,  7.1139e-10, -1.2789e-06,  2.4396e-13, -7.5539e-03,\n",
      "         -1.3501e-14,  8.1098e-11,  3.4330e-08, -4.5698e-10,  7.3837e-12,\n",
      "          7.3671e-03, -9.7660e-01, -1.2524e-01, -6.5852e-13, -9.7861e-07,\n",
      "          1.5530e-12,  5.9318e-14,  1.0042e-07,  1.0000e+00, -5.4036e-08,\n",
      "          8.1218e-14,  1.0062e-10, -2.2571e-17,  1.2942e-11,  4.6399e-09,\n",
      "          1.6428e-15,  3.0889e-03, -1.0591e-06, -3.3350e-11, -1.1716e-08,\n",
      "          4.7801e-11,  1.2833e-10,  3.8974e-06, -2.0278e-15,  3.9878e-08,\n",
      "          2.1680e-02,  4.2529e-11, -2.8248e-12,  2.7899e-11,  3.7562e-07,\n",
      "          1.8168e-09, -8.8185e-11, -5.8098e-11, -1.6056e-07,  1.2470e-10,\n",
      "          1.0103e-22,  6.6172e-13,  2.1675e-12,  3.6789e-19,  1.0621e-13,\n",
      "         -1.4468e-10,  1.0000e+00,  1.2587e-08, -2.0389e-09, -2.9217e-10,\n",
      "          5.4311e-18,  1.0781e-08,  1.6350e-22,  1.4750e-09,  7.6159e-01,\n",
      "          1.8868e-24,  7.6159e-01, -2.0763e-09, -3.8427e-11,  7.6024e-19,\n",
      "         -1.4530e-01,  3.1491e-10, -9.9076e-11, -1.0852e-12, -4.4555e-14,\n",
      "         -1.6537e-08, -1.7832e-11,  1.0000e+00, -4.2561e-06, -1.7188e-07,\n",
      "          2.9461e-24,  6.5546e-14, -2.9698e-21,  7.6590e-07, -1.7653e-09,\n",
      "          1.4058e-08,  1.8002e-10,  2.0840e-12, -1.1256e-09,  1.1561e-19,\n",
      "         -4.0458e-23,  1.8863e-10,  1.4637e-17,  1.9066e-10,  3.2445e-28]])\n"
     ]
    },
    {
     "data": {
      "text/plain": [
       "['<START>',\n",
       " 'a',\n",
       " 'man',\n",
       " 'is',\n",
       " 'talking',\n",
       " 'about',\n",
       " 'a',\n",
       " 'car',\n",
       " '<END>',\n",
       " '<END>',\n",
       " 'his',\n",
       " 'father',\n",
       " 'in',\n",
       " 'a',\n",
       " 'home',\n",
       " '<END>']"
      ]
     },
     "execution_count": 1078,
     "metadata": {},
     "output_type": "execute_result"
    }
   ],
   "source": [
    "gen_seq(model, test_x,  '<START>', 15)"
   ]
  },
  {
   "cell_type": "code",
   "execution_count": null,
   "metadata": {},
   "outputs": [],
   "source": []
  },
  {
   "cell_type": "code",
   "execution_count": null,
   "metadata": {},
   "outputs": [],
   "source": []
  },
  {
   "cell_type": "code",
   "execution_count": null,
   "metadata": {},
   "outputs": [],
   "source": []
  },
  {
   "cell_type": "code",
   "execution_count": null,
   "metadata": {},
   "outputs": [],
   "source": []
  }
 ],
 "metadata": {
  "kernelspec": {
   "display_name": "Python 3",
   "language": "python",
   "name": "python3"
  },
  "language_info": {
   "codemirror_mode": {
    "name": "ipython",
    "version": 3
   },
   "file_extension": ".py",
   "mimetype": "text/x-python",
   "name": "python",
   "nbconvert_exporter": "python",
   "pygments_lexer": "ipython3",
   "version": "3.8.3"
  }
 },
 "nbformat": 4,
 "nbformat_minor": 4
}
