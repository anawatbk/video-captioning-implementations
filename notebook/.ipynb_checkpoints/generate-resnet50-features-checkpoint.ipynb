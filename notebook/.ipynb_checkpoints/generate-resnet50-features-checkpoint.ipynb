{
 "cells": [
  {
   "cell_type": "code",
   "execution_count": 163,
   "metadata": {},
   "outputs": [],
   "source": [
    "import os\n",
    "from pathlib import Path\n",
    "\n",
    "import numpy as np\n",
    "import cv2\n",
    "import matplotlib.pyplot as plt\n",
    "\n",
    "import h5py\n",
    "import torch\n",
    "from torch.utils.data import Dataset, DataLoader\n",
    "import torch.nn as nn\n",
    "import torch.optim as optim\n",
    "import torchvision.models as models"
   ]
  },
  {
   "cell_type": "code",
   "execution_count": 341,
   "metadata": {},
   "outputs": [],
   "source": [
    "from tqdm import tqdm"
   ]
  },
  {
   "cell_type": "code",
   "execution_count": 7,
   "metadata": {},
   "outputs": [],
   "source": [
    "TRAIN_VIDEO_PATH = '../data/TrainValVideo'"
   ]
  },
  {
   "cell_type": "code",
   "execution_count": 13,
   "metadata": {},
   "outputs": [
    {
     "name": "stderr",
     "output_type": "stream",
     "text": [
      "Downloading: \"https://download.pytorch.org/models/resnet50-19c8e357.pth\" to /Users/bank/.cache/torch/hub/checkpoints/resnet50-19c8e357.pth\n"
     ]
    },
    {
     "data": {
      "application/vnd.jupyter.widget-view+json": {
       "model_id": "da3ded360fe44f67bc4101622e86d7aa",
       "version_major": 2,
       "version_minor": 0
      },
      "text/plain": [
       "  0%|          | 0.00/97.8M [00:00<?, ?B/s]"
      ]
     },
     "metadata": {},
     "output_type": "display_data"
    }
   ],
   "source": [
    "model = models.resnet50(pretrained=True)"
   ]
  },
  {
   "cell_type": "code",
   "execution_count": 23,
   "metadata": {},
   "outputs": [],
   "source": [
    "extraction_model = nn.Sequential(*list(model.children())[:-1])"
   ]
  },
  {
   "cell_type": "code",
   "execution_count": 31,
   "metadata": {},
   "outputs": [],
   "source": [
    "#for layer in extraction_model.named_children():\n",
    "#    print(layer)"
   ]
  },
  {
   "cell_type": "code",
   "execution_count": 32,
   "metadata": {},
   "outputs": [],
   "source": [
    "# freeze layers\n",
    "for param in extraction_model.parameters():\n",
    "    param.requires_grad = False\n",
    "    \n",
    "#for name, param in extraction_model.named_parameters():\n",
    "#    print(f\"{name} gradient is set to\", param.requires_grad)"
   ]
  },
  {
   "cell_type": "code",
   "execution_count": 262,
   "metadata": {},
   "outputs": [],
   "source": [
    "import albumentations as A\n",
    "from albumentations.pytorch import ToTensorV2"
   ]
  },
  {
   "cell_type": "code",
   "execution_count": 285,
   "metadata": {},
   "outputs": [],
   "source": [
    "preprocess = A.Compose([\n",
    "    A.Resize(256,256),\n",
    "    A.CenterCrop(224,224),\n",
    "    A.Normalize(mean=[0.485, 0.456, 0.406], std=[0.229, 0.224, 0.225]),\n",
    "    ToTensorV2()])"
   ]
  },
  {
   "cell_type": "code",
   "execution_count": 218,
   "metadata": {},
   "outputs": [
    {
     "data": {
      "text/plain": [
       "'../data/TrainValVideo/video1.mp4'"
      ]
     },
     "execution_count": 218,
     "metadata": {},
     "output_type": "execute_result"
    }
   ],
   "source": [
    "video_path = str(Path(TRAIN_VIDEO_PATH)/'video1.mp4'); video_path"
   ]
  },
  {
   "cell_type": "code",
   "execution_count": 338,
   "metadata": {},
   "outputs": [],
   "source": [
    "def create_resnet50_feature(video_path):\n",
    "    video = cv2.VideoCapture(video_path)\n",
    "    frame_batch = []\n",
    "    count=0\n",
    "    while video.isOpened():\n",
    "        ret, frame = video.read()\n",
    "        if ret and frame is not None:\n",
    "            img_rgb = cv2.cvtColor(frame, cv2.COLOR_BGR2RGB)\n",
    "            #cv2.imwrite('frame{:d}.jpg'.format(count), frame)\n",
    "            input_tensor = preprocess(image=img_rgb)['image']\n",
    "            frame_batch.append(input_tensor)\n",
    "            count += 10 # create feature for every 10th frame\n",
    "            video.set(cv2.CAP_PROP_POS_FRAMES, count)\n",
    "        else:\n",
    "            video.release()\n",
    "            break\n",
    "    resnet_50_video = extraction_model(torch.stack(frame_batch)).squeeze()\n",
    "    return resnet_50_video\n"
   ]
  },
  {
   "cell_type": "code",
   "execution_count": 323,
   "metadata": {},
   "outputs": [],
   "source": [
    "filelist = [str(path) for path in  Path(TRAIN_VIDEO_PATH).glob('*.mp4')]\n",
    "    "
   ]
  },
  {
   "cell_type": "code",
   "execution_count": 342,
   "metadata": {},
   "outputs": [],
   "source": [
    "def gen_feature_files(files, save_location='../data/train_val_features/'):\n",
    "    '''\n",
    "    save features (.hdf5 format) from ResNet50 into the specified file path\n",
    "    '''\n",
    "    for video_path in tqdm(files):\n",
    "        feature = create_resnet50_feature(video_path)\n",
    "        video_name = Path(video_path).parts[-1][:-4]\n",
    "        file_name = f'{video_name}-feature.pt5'\n",
    "        torch.save(feature, save_location+file_name)"
   ]
  },
  {
   "cell_type": "code",
   "execution_count": null,
   "metadata": {},
   "outputs": [
    {
     "name": "stderr",
     "output_type": "stream",
     "text": [
      "  2%|▏         | 112/7000 [11:09<10:58:02,  5.73s/it]"
     ]
    }
   ],
   "source": [
    "gen_feature_files(filelist[10:])"
   ]
  },
  {
   "cell_type": "code",
   "execution_count": null,
   "metadata": {},
   "outputs": [],
   "source": []
  }
 ],
 "metadata": {
  "kernelspec": {
   "display_name": "Python 3",
   "language": "python",
   "name": "python3"
  },
  "language_info": {
   "codemirror_mode": {
    "name": "ipython",
    "version": 3
   },
   "file_extension": ".py",
   "mimetype": "text/x-python",
   "name": "python",
   "nbconvert_exporter": "python",
   "pygments_lexer": "ipython3",
   "version": "3.8.3"
  }
 },
 "nbformat": 4,
 "nbformat_minor": 4
}
