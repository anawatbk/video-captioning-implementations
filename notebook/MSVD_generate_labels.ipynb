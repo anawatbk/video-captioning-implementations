{
 "cells": [
  {
   "cell_type": "code",
   "execution_count": 1,
   "metadata": {},
   "outputs": [],
   "source": [
    "import os\n",
    "from pathlib import Path\n",
    "\n",
    "import pandas as pd\n",
    "import numpy as np\n",
    "\n",
    "import json\n",
    "import random"
   ]
  },
  {
   "cell_type": "code",
   "execution_count": 2,
   "metadata": {},
   "outputs": [],
   "source": [
    "TRAIN_PATH = '../data/MSVD/'\n",
    "TRAIN_LABEL_PATH = os.path.join(TRAIN_PATH, 'training_label.json')"
   ]
  },
  {
   "cell_type": "code",
   "execution_count": 4,
   "metadata": {},
   "outputs": [],
   "source": [
    "# load json\n",
    "with open(TRAIN_LABEL_PATH) as data_file:    \n",
    "    y_data = json.load(data_file)"
   ]
  },
  {
   "cell_type": "code",
   "execution_count": 9,
   "metadata": {},
   "outputs": [],
   "source": [
    "# covert to df\n",
    "label_df = pd.DataFrame(y_data)\n",
    "# covert list of items to rows\n",
    "label_df = label_df.explode('caption')\n",
    "# remove '.' for caption\n",
    "label_df['caption']= label_df['caption'].str.replace('.', '').str.lower()\n",
    "label_df = label_df.rename(columns={'id':'video_id'})\n",
    "# select only sentence length < 10\n",
    "sent_len = label_df.apply(lambda x: len(x.caption.split(' ')), axis=1)\n",
    "label_df['sent_len'] = sent_len\n",
    "label_df = label_df[label_df['sent_len'] < 10].copy()\n",
    "label_df.to_csv('../data/MSVD_label_final.csv', index=False)"
   ]
  }
 ],
 "metadata": {
  "kernelspec": {
   "display_name": "Python 3",
   "language": "python",
   "name": "python3"
  },
  "language_info": {
   "codemirror_mode": {
    "name": "ipython",
    "version": 3
   },
   "file_extension": ".py",
   "mimetype": "text/x-python",
   "name": "python",
   "nbconvert_exporter": "python",
   "pygments_lexer": "ipython3",
   "version": "3.8.3"
  }
 },
 "nbformat": 4,
 "nbformat_minor": 4
}
